{
 "cells": [
  {
   "cell_type": "markdown",
   "metadata": {},
   "source": [
    "# SymPy Users Guide\n",
    "http://docs.sympy.org/latest/guide.html"
   ]
  },
  {
   "cell_type": "code",
   "execution_count": 2,
   "metadata": {},
   "outputs": [
    {
     "name": "stdout",
     "output_type": "stream",
     "text": [
      "Populating the interactive namespace from numpy and matplotlib\n"
     ]
    }
   ],
   "source": [
    "%pylab inline"
   ]
  },
  {
   "cell_type": "code",
   "execution_count": 3,
   "metadata": {
    "collapsed": true
   },
   "outputs": [],
   "source": [
    "from sympy import Symbol"
   ]
  },
  {
   "cell_type": "markdown",
   "metadata": {
    "collapsed": true
   },
   "source": [
    "## SymPy’s Architecture"
   ]
  },
  {
   "cell_type": "markdown",
   "metadata": {},
   "source": [
    "### Basics"
   ]
  },
  {
   "cell_type": "markdown",
   "metadata": {},
   "source": [
    "All symbolic things are implemented using subclasses of the ***Basic*** class. First, you need to create ***symbols*** using Symbol(\"x\") or numbers using Integer(5) or Float(34.3). Then you construct the ***expression*** using any class from SymPy. For example Add(Symbol(\"a\"), Symbol(\"b\")) gives an instance of the Add class. You can call all methods, which the particular class supports.\n",
    "\n",
    "For easier use, there is a syntactic sugar for expressions like:\n",
    "> cos(x) + 1 \n",
    "\n",
    "is equal to \n",
    "> cos(x).__add__(1) \n",
    "\n",
    "is equal to \n",
    "> Add(cos(x), Integer(1))\n",
    "\n",
    "or\n",
    "\n",
    "> 2/cos(x) \n",
    "\n",
    "is equal to \n",
    "> cos(x).__rdiv__(2)  \n",
    "\n",
    "is equal to \n",
    ">Mul(Rational(2), Pow(cos(x), Rational(-1))).\n",
    "\n",
    "So, you can write normal expressions using python arithmetics like this:"
   ]
  },
  {
   "cell_type": "code",
   "execution_count": 4,
   "metadata": {},
   "outputs": [
    {
     "data": {
      "text/plain": [
       "(a + b)**2"
      ]
     },
     "execution_count": 4,
     "metadata": {},
     "output_type": "execute_result"
    }
   ],
   "source": [
    "a = Symbol('a')\n",
    "b = Symbol('b')\n",
    "e = (a + b)**2\n",
    "e"
   ]
  },
  {
   "cell_type": "markdown",
   "metadata": {},
   "source": [
    "but from the SymPy point of view, we just need the classes ***Add, Mul, Pow, Rational, Integer***."
   ]
  },
  {
   "cell_type": "markdown",
   "metadata": {},
   "source": [
    "## Automatic evaluation to canonical form\n",
    "For computation, all expressions need to be in a canonical form, this is done during the creation of the particular instance and only inexpensive operations are performed, necessary to put the expression in the canonical form. So the canonical form doesn’t mean the simplest possible expression. The exact list of operations performed depend on the implementation. Obviously, the definition of the canonical form is arbitrary, the only requirement is that ***all equivalent expressions must have the same canonical form***. We tried the conversion to a canonical (standard) form to be as fast as possible and also in a way so that the result is what you would write by hand - so for example `b*a + -4 + b + a*b + 4 + (a + b)**2 becomes 2*a*b + b + (a + b)**2`.\n",
    "\n",
    "Whenever you construct an expression, for example Add(x, x), the Add.__new__() is called and it determines what to return. In this case:"
   ]
  },
  {
   "cell_type": "code",
   "execution_count": 5,
   "metadata": {},
   "outputs": [
    {
     "data": {
      "text/plain": [
       "2*x"
      ]
     },
     "execution_count": 5,
     "metadata": {},
     "output_type": "execute_result"
    }
   ],
   "source": [
    "from sympy import Add\n",
    "from sympy.abc import x\n",
    "e = Add(x, x)\n",
    "e"
   ]
  },
  {
   "cell_type": "code",
   "execution_count": 6,
   "metadata": {},
   "outputs": [
    {
     "data": {
      "text/plain": [
       "sympy.core.mul.Mul"
      ]
     },
     "execution_count": 6,
     "metadata": {},
     "output_type": "execute_result"
    }
   ],
   "source": [
    "type(e)"
   ]
  },
  {
   "cell_type": "code",
   "execution_count": 7,
   "metadata": {},
   "outputs": [
    {
     "data": {
      "text/plain": [
       "(2, x)"
      ]
     },
     "execution_count": 7,
     "metadata": {},
     "output_type": "execute_result"
    }
   ],
   "source": [
    "e.args"
   ]
  },
  {
   "cell_type": "markdown",
   "metadata": {},
   "source": [
    "e is actually an instance of Mul(2, x), because Add.__new__() returned Mul.\n",
    "\n",
    "## Comparisons\n",
    "Expressions can be compared using a regular python syntax:"
   ]
  },
  {
   "cell_type": "code",
   "execution_count": 8,
   "metadata": {},
   "outputs": [
    {
     "data": {
      "text/plain": [
       "True"
      ]
     },
     "execution_count": 8,
     "metadata": {},
     "output_type": "execute_result"
    }
   ],
   "source": [
    "from sympy.abc import x, y\n",
    "x + y == y + x"
   ]
  },
  {
   "cell_type": "code",
   "execution_count": 9,
   "metadata": {},
   "outputs": [
    {
     "data": {
      "text/plain": [
       "False"
      ]
     },
     "execution_count": 9,
     "metadata": {},
     "output_type": "execute_result"
    }
   ],
   "source": [
    "x + y == y - x"
   ]
  },
  {
   "cell_type": "markdown",
   "metadata": {},
   "source": [
    "We made the following decision in SymPy: a = Symbol(\"x\") and another b = Symbol(\"x\") (with the same string “x”) is the same thing, i.e a == b is True. We chose a == b, because it is more natural; exp(x) == exp(x) is also True for the same instance of x but different instances of exp, so we chose to have exp(x) == exp(x) even for different instances of x.\n",
    "\n",
    "Sometimes, you need to have a unique symbol, for example as a temporary one in some calculation, which is going to be substituted for something else at the end anyway. This is achieved using Dummy(\"x\"). So, to sum it up:"
   ]
  },
  {
   "cell_type": "code",
   "execution_count": 10,
   "metadata": {},
   "outputs": [
    {
     "data": {
      "text/plain": [
       "True"
      ]
     },
     "execution_count": 10,
     "metadata": {},
     "output_type": "execute_result"
    }
   ],
   "source": [
    "from sympy import Symbol, Dummy\n",
    "Symbol(\"x\") == Symbol(\"x\")"
   ]
  },
  {
   "cell_type": "code",
   "execution_count": 11,
   "metadata": {},
   "outputs": [
    {
     "data": {
      "text/plain": [
       "False"
      ]
     },
     "execution_count": 11,
     "metadata": {},
     "output_type": "execute_result"
    }
   ],
   "source": [
    "Dummy(\"x\") == Dummy(\"x\")"
   ]
  },
  {
   "cell_type": "markdown",
   "metadata": {},
   "source": [
    "## Debugging\n",
    "Starting with 0.6.4, you can turn on/off debug messages with the environment variable SYMPY_DEBUG, which is expected to have the values True or False. For example, to turn on debugging, you would issue:\n",
    "\n",
    "> [user@localhost]: SYMPY_DEBUG=True ./bin/isympy"
   ]
  },
  {
   "cell_type": "markdown",
   "metadata": {},
   "source": [
    "## Functionality\n",
    "There are no given requirements on classes in the library. For example, if they don’t implement the fdiff() method and you construct an expression using such a class, then trying to use the Basic.series() method will raise an exception of not finding the fdiff() method in your class. This “duck typing” has an advantage that you just implement the functionality which you need.\n",
    "\n",
    "You can define the cos class like this:\n",
    "```\n",
    "class cos(Function):\n",
    "    pass\n",
    "```    \n",
    "and use it like `1 + cos(x)`, but if you don’t implement the fdiff() method, you will not be able to call `(1 + cos(x)).series()`.\n",
    "\n",
    "The symbolic object is characterized (defined) by the things which it can do, so implementing more methods like ***fdiff(), subs()*** etc., you are creating a “shape” of the symbolic object. Useful things to implement in new classes are: ***hash()*** (to use the class in comparisons), ***fdiff() ***(to use it in series expansion), ***subs()*** (to use it in expressions, where some parts are being substituted) and ***series()*** (if the series cannot be computed using the general Basic.series() method). When you create a new class, don’t worry about this too much - just try to use it in your code and you will realize immediately which methods need to be implemented in each situation.\n",
    "\n",
    "***All objects in sympy are immutable*** - in the sense that ***any operation just returns a new instance*** (it can return the same instance only if it didn’t change). This is a common mistake to change the current instance, like self.arg = self.arg + 1 (wrong!). Use arg = self.arg + 1; return arg instead. The object is immutable in the sense of the symbolic expression it represents. It can modify itself to keep track of, for example, its hash. Or it can recalculate anything regarding the expression it contains. But ***the expression cannot be changed***. So you can pass any instance to other objects, because you don’t have to worry that it will change, or that this would break anything."
   ]
  },
  {
   "cell_type": "markdown",
   "metadata": {},
   "source": [
    "## Conclusion\n",
    "Above are the main ideas behind SymPy that we try to obey. The rest depends on the current implementation and may possibly change in the future. The point of all of this is that ***the interdependencies inside SymPy should be kept to a minimum***. If one wants to add new functionality to SymPy, all that is necessary is to ***create a subclass of Basic*** and implement what you want."
   ]
  },
  {
   "cell_type": "markdown",
   "metadata": {},
   "source": [
    "## Functions\n",
    "How to create a new function with one variable:"
   ]
  },
  {
   "cell_type": "code",
   "execution_count": 12,
   "metadata": {},
   "outputs": [],
   "source": [
    "from sympy import Basic, Function\n",
    "\n",
    "class sign(Function):\n",
    "\n",
    "    nargs = 1\n",
    "\n",
    "    @classmethod\n",
    "    def eval(cls, arg):\n",
    "        if isinstance(arg, Basic.NaN):\n",
    "            return S.NaN\n",
    "        if isinstance(arg, Basic.Zero):\n",
    "            return S.Zero\n",
    "        if arg.is_positive:\n",
    "            return S.One\n",
    "        if arg.is_negative:\n",
    "            return S.NegativeOne\n",
    "        if isinstance(arg, Basic.Mul):\n",
    "            coeff, terms = arg.as_coeff_mul()\n",
    "            if not isinstance(coeff, Basic.One):\n",
    "                return cls(coeff) * cls(Basic.Mul(*terms))\n",
    "\n",
    "    is_finite = True\n",
    "\n",
    "    def _eval_conjugate(self):\n",
    "        return self\n",
    "\n",
    "    def _eval_is_zero(self):\n",
    "        return isinstance(self[0], Basic.Zero)"
   ]
  },
  {
   "cell_type": "markdown",
   "metadata": {},
   "source": [
    "and that’s it. The \\_eval\\_* functions are called when something is needed. The eval is called when the class is about to be instantiated and it should return either some simplified instance of some other class or if the class should be unmodified, return None (see core/function.py in Function.__new__ for implementation details). See also tests in sympy/functions/elementary/tests/test_interface.py that test this interface. You can use them to create your own new functions.\n",
    "\n",
    "The applied function sign(x) is constructed using\n",
    ">sign(x)\n",
    "\n",
    "both inside and outside of SymPy. Unapplied functions sign is just the class itself:\n",
    ">sign\n",
    "\n",
    "both inside and outside of SymPy. This is the current structure of classes in SymPy:\n",
    "```\n",
    "class BasicType(type):\n",
    "    pass\n",
    "class MetaBasicMeths(BasicType):\n",
    "    ...\n",
    "class BasicMeths(AssumeMeths):\n",
    "    __metaclass__ = MetaBasicMeths\n",
    "    ...\n",
    "class Basic(BasicMeths):\n",
    "    ...\n",
    "class FunctionClass(MetaBasicMeths):\n",
    "    ...\n",
    "class Function(Basic, RelMeths, ArithMeths):\n",
    "    __metaclass__ = FunctionClass\n",
    "    ...\n",
    "```\n",
    "The exact names of the classes and the names of the methods and how they work can be changed in the future.\n",
    "\n",
    "This is how to create a function with two variables:"
   ]
  },
  {
   "cell_type": "code",
   "execution_count": 13,
   "metadata": {
    "collapsed": true
   },
   "outputs": [],
   "source": [
    "class chebyshevt_root(Function):\n",
    "    nargs = 2\n",
    "\n",
    "    @classmethod\n",
    "    def eval(cls, n, k):\n",
    "        if not 0 <= k < n:\n",
    "            raise ValueError(\"must have 0 <= k < n\")\n",
    "        return cos(S.Pi*(2*k + 1)/(2*n))"
   ]
  },
  {
   "cell_type": "markdown",
   "metadata": {},
   "source": [
    "Here it’s how to define a derivative of the function:"
   ]
  },
  {
   "cell_type": "code",
   "execution_count": 14,
   "metadata": {
    "collapsed": true
   },
   "outputs": [],
   "source": [
    "from sympy import Function, sympify, cos\n",
    "class my_function(Function):\n",
    "    nargs = 1\n",
    "    \n",
    "    def fdiff(self, argindex = 1):\n",
    "        return cos(self.args[0])\n",
    "    \n",
    "\n",
    "    @classmethod\n",
    "    def eval(cls, arg):\n",
    "        arg = sympify(arg)\n",
    "        if arg == 0:\n",
    "            return sympify(0)"
   ]
  },
  {
   "cell_type": "markdown",
   "metadata": {},
   "source": [
    "So guess what this my_function is going to be? Well, it’s derivative is ***cos*** and the function value at 0 is 0, but let’s pretend we don’t know:"
   ]
  },
  {
   "cell_type": "code",
   "execution_count": 15,
   "metadata": {},
   "outputs": [
    {
     "name": "stdout",
     "output_type": "stream",
     "text": [
      "     3     5     7       9           \n",
      "    x     x     x       x       ⎛ 10⎞\n",
      "x - ── + ─── - ──── + ────── + O⎝x  ⎠\n",
      "    6    120   5040   362880         \n"
     ]
    }
   ],
   "source": [
    "from sympy import pprint\n",
    "pprint(my_function(x).series(x, 0, 10))"
   ]
  },
  {
   "cell_type": "markdown",
   "metadata": {},
   "source": [
    "Looks familiar indeed:"
   ]
  },
  {
   "cell_type": "code",
   "execution_count": 16,
   "metadata": {},
   "outputs": [
    {
     "name": "stdout",
     "output_type": "stream",
     "text": [
      "     3     5     7       9           \n",
      "    x     x     x       x       ⎛ 10⎞\n",
      "x - ── + ─── - ──── + ────── + O⎝x  ⎠\n",
      "    6    120   5040   362880         \n"
     ]
    }
   ],
   "source": [
    "from sympy import sin\n",
    "pprint(sin(x).series(x, 0, 10))"
   ]
  },
  {
   "cell_type": "markdown",
   "metadata": {},
   "source": [
    "Let’s try a more complicated example. Let’s define the derivative in terms of the function itself:"
   ]
  },
  {
   "cell_type": "code",
   "execution_count": 17,
   "metadata": {
    "collapsed": true
   },
   "outputs": [],
   "source": [
    "class what_am_i(Function):\n",
    "    nargs = 1\n",
    "    \n",
    "    def fdiff(self, argindex = 1):\n",
    "        return 1 - what_am_i(self.args[0])**2\n",
    "    \n",
    "    @classmethod\n",
    "    def eval(cls, arg):\n",
    "        arg = sympify(arg)\n",
    "        if arg == 0:\n",
    "            return sympify(0)"
   ]
  },
  {
   "cell_type": "markdown",
   "metadata": {},
   "source": [
    "So what is what_am_i? Let’s try it:"
   ]
  },
  {
   "cell_type": "code",
   "execution_count": 18,
   "metadata": {},
   "outputs": [
    {
     "name": "stdout",
     "output_type": "stream",
     "text": [
      "     3      5       7       9         \n",
      "    x    2⋅x    17⋅x    62⋅x     ⎛ 10⎞\n",
      "x - ── + ──── - ───── + ───── + O⎝x  ⎠\n",
      "    3     15     315     2835         \n"
     ]
    }
   ],
   "source": [
    "pprint(what_am_i(x).series(x, 0, 10))"
   ]
  },
  {
   "cell_type": "markdown",
   "metadata": {},
   "source": [
    "Well, it’s tanh:"
   ]
  },
  {
   "cell_type": "code",
   "execution_count": 19,
   "metadata": {},
   "outputs": [
    {
     "name": "stdout",
     "output_type": "stream",
     "text": [
      "     3      5       7       9         \n",
      "    x    2⋅x    17⋅x    62⋅x     ⎛ 10⎞\n",
      "x - ── + ──── - ───── + ───── + O⎝x  ⎠\n",
      "    3     15     315     2835         \n"
     ]
    }
   ],
   "source": [
    "from sympy import tanh\n",
    "pprint(tanh(x).series(x, 0, 10))"
   ]
  },
  {
   "cell_type": "markdown",
   "metadata": {},
   "source": [
    "The new functions we just defined are regular SymPy objects, you can use them all over SymPy, e.g.:"
   ]
  },
  {
   "cell_type": "code",
   "execution_count": 20,
   "metadata": {},
   "outputs": [
    {
     "data": {
      "text/plain": [
       "1"
      ]
     },
     "execution_count": 20,
     "metadata": {},
     "output_type": "execute_result"
    }
   ],
   "source": [
    "from sympy import limit\n",
    "limit(what_am_i(x)/x, x, 0)"
   ]
  },
  {
   "cell_type": "markdown",
   "metadata": {},
   "source": [
    "## Common tasks\n",
    "Please use the same way as is shown below all across SymPy.\n",
    "\n",
    "### accessing parameters:"
   ]
  },
  {
   "cell_type": "code",
   "execution_count": 21,
   "metadata": {},
   "outputs": [
    {
     "data": {
      "text/plain": [
       "(x**2,)"
      ]
     },
     "execution_count": 21,
     "metadata": {},
     "output_type": "execute_result"
    }
   ],
   "source": [
    "from sympy import sign, sin\n",
    "from sympy.abc import x, y, z\n",
    "\n",
    "e = sign(x**2)\n",
    "e.args"
   ]
  },
  {
   "cell_type": "code",
   "execution_count": 22,
   "metadata": {},
   "outputs": [
    {
     "data": {
      "text/plain": [
       "x**2"
      ]
     },
     "execution_count": 22,
     "metadata": {},
     "output_type": "execute_result"
    }
   ],
   "source": [
    "e.args[0]"
   ]
  },
  {
   "cell_type": "markdown",
   "metadata": {},
   "source": [
    "Number arguments (in Adds and Muls) will always be the first argument;\n",
    "other arguments might be in arbitrary order:"
   ]
  },
  {
   "cell_type": "code",
   "execution_count": 23,
   "metadata": {},
   "outputs": [
    {
     "data": {
      "text/plain": [
       "1"
      ]
     },
     "execution_count": 23,
     "metadata": {},
     "output_type": "execute_result"
    }
   ],
   "source": [
    "(1 + x + y*z).args[0]"
   ]
  },
  {
   "cell_type": "code",
   "execution_count": 24,
   "metadata": {},
   "outputs": [
    {
     "data": {
      "text/plain": [
       "True"
      ]
     },
     "execution_count": 24,
     "metadata": {},
     "output_type": "execute_result"
    }
   ],
   "source": [
    "(1 + x + y*z).args[1] in (x, y*z)"
   ]
  },
  {
   "cell_type": "code",
   "execution_count": 25,
   "metadata": {},
   "outputs": [
    {
     "data": {
      "text/plain": [
       "(y, z)"
      ]
     },
     "execution_count": 25,
     "metadata": {},
     "output_type": "execute_result"
    }
   ],
   "source": [
    "(y*z).args"
   ]
  },
  {
   "cell_type": "code",
   "execution_count": 26,
   "metadata": {},
   "outputs": [
    {
     "data": {
      "text/plain": [
       "(y*z,)"
      ]
     },
     "execution_count": 26,
     "metadata": {},
     "output_type": "execute_result"
    }
   ],
   "source": [
    "sin(y*z).args"
   ]
  },
  {
   "cell_type": "markdown",
   "metadata": {},
   "source": [
    "Never use internal methods or variables, prefixed with “_” (example: don’t use _args, use .args instead).\n",
    "\n",
    "### testing the structure of a SymPy expression\n",
    "\n",
    "Applied functions:"
   ]
  },
  {
   "cell_type": "code",
   "execution_count": 27,
   "metadata": {},
   "outputs": [
    {
     "data": {
      "text/plain": [
       "sign(x**2)"
      ]
     },
     "execution_count": 27,
     "metadata": {},
     "output_type": "execute_result"
    }
   ],
   "source": [
    "from sympy import sign, exp, Function\n",
    "e = sign(x**2)\n",
    "e"
   ]
  },
  {
   "cell_type": "code",
   "execution_count": 28,
   "metadata": {},
   "outputs": [
    {
     "data": {
      "text/plain": [
       "True"
      ]
     },
     "execution_count": 28,
     "metadata": {},
     "output_type": "execute_result"
    }
   ],
   "source": [
    "isinstance(e, sign)"
   ]
  },
  {
   "cell_type": "code",
   "execution_count": 29,
   "metadata": {},
   "outputs": [
    {
     "data": {
      "text/plain": [
       "False"
      ]
     },
     "execution_count": 29,
     "metadata": {},
     "output_type": "execute_result"
    }
   ],
   "source": [
    "isinstance(e, exp)"
   ]
  },
  {
   "cell_type": "code",
   "execution_count": 30,
   "metadata": {},
   "outputs": [
    {
     "data": {
      "text/plain": [
       "True"
      ]
     },
     "execution_count": 30,
     "metadata": {},
     "output_type": "execute_result"
    }
   ],
   "source": [
    "isinstance(e, Function)"
   ]
  },
  {
   "cell_type": "markdown",
   "metadata": {},
   "source": [
    "So e is a sign(z) function, but not exp(z) function.\n",
    "\n",
    "Unapplied functions:"
   ]
  },
  {
   "cell_type": "code",
   "execution_count": 31,
   "metadata": {},
   "outputs": [
    {
     "data": {
      "text/plain": [
       "sign"
      ]
     },
     "execution_count": 31,
     "metadata": {},
     "output_type": "execute_result"
    }
   ],
   "source": [
    "from sympy import sign, exp, FunctionClass\n",
    "e = sign\n",
    "e"
   ]
  },
  {
   "cell_type": "code",
   "execution_count": 32,
   "metadata": {},
   "outputs": [
    {
     "data": {
      "text/plain": [
       "exp"
      ]
     },
     "execution_count": 32,
     "metadata": {},
     "output_type": "execute_result"
    }
   ],
   "source": [
    "f = exp\n",
    "f"
   ]
  },
  {
   "cell_type": "code",
   "execution_count": 33,
   "metadata": {},
   "outputs": [
    {
     "data": {
      "text/plain": [
       "sympy.core.add.Add"
      ]
     },
     "execution_count": 33,
     "metadata": {},
     "output_type": "execute_result"
    }
   ],
   "source": [
    "g = Add\n",
    "g"
   ]
  },
  {
   "cell_type": "code",
   "execution_count": 34,
   "metadata": {},
   "outputs": [
    {
     "data": {
      "text/plain": [
       "True"
      ]
     },
     "execution_count": 34,
     "metadata": {},
     "output_type": "execute_result"
    }
   ],
   "source": [
    "isinstance(e, FunctionClass)"
   ]
  },
  {
   "cell_type": "code",
   "execution_count": 35,
   "metadata": {},
   "outputs": [
    {
     "data": {
      "text/plain": [
       "True"
      ]
     },
     "execution_count": 35,
     "metadata": {},
     "output_type": "execute_result"
    }
   ],
   "source": [
    "isinstance(f, FunctionClass)"
   ]
  },
  {
   "cell_type": "code",
   "execution_count": 36,
   "metadata": {},
   "outputs": [
    {
     "data": {
      "text/plain": [
       "False"
      ]
     },
     "execution_count": 36,
     "metadata": {},
     "output_type": "execute_result"
    }
   ],
   "source": [
    "isinstance(g, FunctionClass)"
   ]
  },
  {
   "cell_type": "code",
   "execution_count": 37,
   "metadata": {},
   "outputs": [
    {
     "data": {
      "text/plain": [
       "True"
      ]
     },
     "execution_count": 37,
     "metadata": {},
     "output_type": "execute_result"
    }
   ],
   "source": [
    "g is Add"
   ]
  },
  {
   "cell_type": "code",
   "execution_count": 41,
   "metadata": {},
   "outputs": [
    {
     "data": {
      "text/plain": [
       "(sympy.core.add.Add,\n",
       " sympy.core.expr.Expr,\n",
       " sympy.core.operations.AssocOp,\n",
       " sympy.core.basic.Basic,\n",
       " sympy.core.evalf.EvalfMixin,\n",
       " object)"
      ]
     },
     "execution_count": 41,
     "metadata": {},
     "output_type": "execute_result"
    }
   ],
   "source": [
    "g.__mro__"
   ]
  },
  {
   "cell_type": "markdown",
   "metadata": {},
   "source": [
    "So e and f are functions, g is not a function."
   ]
  }
 ],
 "metadata": {
  "kernelspec": {
   "display_name": "Python 3",
   "language": "python",
   "name": "python3"
  },
  "language_info": {
   "codemirror_mode": {
    "name": "ipython",
    "version": 3
   },
   "file_extension": ".py",
   "mimetype": "text/x-python",
   "name": "python",
   "nbconvert_exporter": "python",
   "pygments_lexer": "ipython3",
   "version": "3.6.6"
  }
 },
 "nbformat": 4,
 "nbformat_minor": 2
}
