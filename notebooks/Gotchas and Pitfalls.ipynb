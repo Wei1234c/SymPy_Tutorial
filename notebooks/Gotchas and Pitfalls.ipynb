{
 "cells": [
  {
   "cell_type": "markdown",
   "metadata": {},
   "source": [
    "# Gotchas and Pitfalls\n",
    "http://docs.sympy.org/latest/gotchas.html"
   ]
  },
  {
   "cell_type": "code",
   "execution_count": 1,
   "metadata": {
    "collapsed": false
   },
   "outputs": [
    {
     "name": "stdout",
     "output_type": "stream",
     "text": [
      "Populating the interactive namespace from numpy and matplotlib\n"
     ]
    }
   ],
   "source": [
    "%pylab inline"
   ]
  },
  {
   "cell_type": "code",
   "execution_count": 2,
   "metadata": {
    "collapsed": true
   },
   "outputs": [],
   "source": [
    "from sympy import Symbol"
   ]
  },
  {
   "cell_type": "markdown",
   "metadata": {},
   "source": [
    "## Equals Signs (=)\n",
    "Single Equals Sign\n",
    "The equals sign (=) is the assignment operator, not equality. If you want to do x=y, use Eq(x, y) for equality. Alternatively, **all expressions are assumed to equal zero**, so you can just subtract one side and use x - y.\n",
    "\n",
    "The proper use of the equals sign is to assign ***expressions*** to variables.\n",
    "\n",
    "For example:"
   ]
  },
  {
   "cell_type": "code",
   "execution_count": 3,
   "metadata": {
    "collapsed": false
   },
   "outputs": [
    {
     "data": {
      "text/plain": [
       "x"
      ]
     },
     "execution_count": 3,
     "metadata": {},
     "output_type": "execute_result"
    }
   ],
   "source": [
    "from sympy.abc import x, y\n",
    "x"
   ]
  },
  {
   "cell_type": "code",
   "execution_count": 4,
   "metadata": {
    "collapsed": false
   },
   "outputs": [
    {
     "data": {
      "text/plain": [
       "sympy.core.symbol.Symbol"
      ]
     },
     "execution_count": 4,
     "metadata": {},
     "output_type": "execute_result"
    }
   ],
   "source": [
    "type(x)"
   ]
  },
  {
   "cell_type": "code",
   "execution_count": 5,
   "metadata": {
    "collapsed": false
   },
   "outputs": [
    {
     "name": "stdout",
     "output_type": "stream",
     "text": [
      "x - y\n"
     ]
    }
   ],
   "source": [
    "a = x - y\n",
    "print(a)"
   ]
  },
  {
   "cell_type": "code",
   "execution_count": 6,
   "metadata": {
    "collapsed": false
   },
   "outputs": [
    {
     "data": {
      "text/plain": [
       "sympy.core.add.Add"
      ]
     },
     "execution_count": 6,
     "metadata": {},
     "output_type": "execute_result"
    }
   ],
   "source": [
    "type(a)"
   ]
  },
  {
   "cell_type": "markdown",
   "metadata": {},
   "source": [
    "## Double Equals Signs\n",
    "Double equals signs (==) are used to test equality. However, this tests expressions exactly, not symbolically. For example:"
   ]
  },
  {
   "cell_type": "code",
   "execution_count": 7,
   "metadata": {
    "collapsed": false
   },
   "outputs": [
    {
     "data": {
      "text/plain": [
       "False"
      ]
     },
     "execution_count": 7,
     "metadata": {},
     "output_type": "execute_result"
    }
   ],
   "source": [
    "(x + 1)**2 == x**2 + 2*x + 1"
   ]
  },
  {
   "cell_type": "code",
   "execution_count": 8,
   "metadata": {
    "collapsed": false
   },
   "outputs": [
    {
     "data": {
      "text/plain": [
       "True"
      ]
     },
     "execution_count": 8,
     "metadata": {},
     "output_type": "execute_result"
    }
   ],
   "source": [
    "(x + 1)**2 == (x + 1)**2"
   ]
  },
  {
   "cell_type": "markdown",
   "metadata": {},
   "source": [
    "If you want to test for symbolic equality, one way is to subtract one expression from the other and run it through functions like ***expand(), simplify(), and trigsimp()*** and see if the equation reduces to 0."
   ]
  },
  {
   "cell_type": "code",
   "execution_count": 9,
   "metadata": {
    "collapsed": false
   },
   "outputs": [
    {
     "data": {
      "text/plain": [
       "0"
      ]
     },
     "execution_count": 9,
     "metadata": {},
     "output_type": "execute_result"
    }
   ],
   "source": [
    "from sympy import simplify, cos, sin, expand\n",
    "simplify((x + 1)**2 - (x**2 + 2*x + 1))"
   ]
  },
  {
   "cell_type": "code",
   "execution_count": 10,
   "metadata": {
    "collapsed": false
   },
   "outputs": [
    {
     "data": {
      "text/plain": [
       "-2*sin(x)*cos(x) + sin(2*x)"
      ]
     },
     "execution_count": 10,
     "metadata": {},
     "output_type": "execute_result"
    }
   ],
   "source": [
    "eq = sin(2*x) - 2*sin(x)*cos(x)\n",
    "eq"
   ]
  },
  {
   "cell_type": "code",
   "execution_count": 11,
   "metadata": {
    "collapsed": false
   },
   "outputs": [
    {
     "data": {
      "text/plain": [
       "0"
      ]
     },
     "execution_count": 11,
     "metadata": {},
     "output_type": "execute_result"
    }
   ],
   "source": [
    "simplify(eq)"
   ]
  },
  {
   "cell_type": "code",
   "execution_count": 12,
   "metadata": {
    "collapsed": false
   },
   "outputs": [
    {
     "data": {
      "text/plain": [
       "0"
      ]
     },
     "execution_count": 12,
     "metadata": {},
     "output_type": "execute_result"
    }
   ],
   "source": [
    "expand(eq, trig=True)"
   ]
  },
  {
   "cell_type": "markdown",
   "metadata": {},
   "source": [
    "## Variables\n",
    "### Variables Assignment does not Create a Relation Between Expressions\n",
    "When you use = to do assignment, remember that in Python, as in most programming languages, the variable does not change if you change the value you assigned to it. The equations you are typing use the values present at the time of creation to “fill in” values, just like regular Python definitions. They are not altered by changes made afterwards. Consider the following:\n",
    "\n"
   ]
  },
  {
   "cell_type": "code",
   "execution_count": 13,
   "metadata": {
    "collapsed": false
   },
   "outputs": [
    {
     "name": "stdout",
     "output_type": "stream",
     "text": [
      "a + 1\n"
     ]
    }
   ],
   "source": [
    "from sympy import Symbol\n",
    "a = Symbol('a')  # Symbol, `a`, stored as variable \"a\"\n",
    "b = a + 1        # an expression involving `a` stored as variable \"b\"\n",
    "print(b)"
   ]
  },
  {
   "cell_type": "code",
   "execution_count": 14,
   "metadata": {
    "collapsed": false
   },
   "outputs": [
    {
     "name": "stdout",
     "output_type": "stream",
     "text": [
      "4\n"
     ]
    }
   ],
   "source": [
    "a = 4            # \"a\" now points to literal integer 4, not Symbol('a')\n",
    "print(a)"
   ]
  },
  {
   "cell_type": "code",
   "execution_count": 15,
   "metadata": {
    "collapsed": false
   },
   "outputs": [
    {
     "name": "stdout",
     "output_type": "stream",
     "text": [
      "a + 1\n"
     ]
    }
   ],
   "source": [
    "print(b)          # \"b\" is still pointing at the expression involving `a`"
   ]
  },
  {
   "cell_type": "code",
   "execution_count": 16,
   "metadata": {
    "collapsed": false
   },
   "outputs": [
    {
     "data": {
      "text/plain": [
       "sympy.core.add.Add"
      ]
     },
     "execution_count": 16,
     "metadata": {},
     "output_type": "execute_result"
    }
   ],
   "source": [
    "type(b)"
   ]
  },
  {
   "cell_type": "code",
   "execution_count": 17,
   "metadata": {
    "collapsed": false
   },
   "outputs": [
    {
     "data": {
      "text/plain": [
       "int"
      ]
     },
     "execution_count": 17,
     "metadata": {},
     "output_type": "execute_result"
    }
   ],
   "source": [
    "type(a)"
   ]
  },
  {
   "cell_type": "code",
   "execution_count": 18,
   "metadata": {
    "collapsed": false
   },
   "outputs": [
    {
     "data": {
      "text/plain": [
       "a + 1.0"
      ]
     },
     "execution_count": 18,
     "metadata": {},
     "output_type": "execute_result"
    }
   ],
   "source": [
    "b.evalf()"
   ]
  },
  {
   "cell_type": "markdown",
   "metadata": {},
   "source": [
    "Changing quantity a does not change b; you are not working with a set of simultaneous equations. It might be helpful to remember that the string that gets printed when you print a variable referring to a SymPy object is the string that was given to it when it was created; that string does not have to be the same as the variable that you assign it to."
   ]
  },
  {
   "cell_type": "code",
   "execution_count": 19,
   "metadata": {
    "collapsed": false
   },
   "outputs": [
    {
     "name": "stdout",
     "output_type": "stream",
     "text": [
      "rate*time\n"
     ]
    }
   ],
   "source": [
    "from sympy import var\n",
    "r, t, d = var('rate time short_life')\n",
    "d = r*t\n",
    "print(d)"
   ]
  },
  {
   "cell_type": "code",
   "execution_count": 20,
   "metadata": {
    "collapsed": false
   },
   "outputs": [
    {
     "data": {
      "text/plain": [
       "sympy.core.mul.Mul"
      ]
     },
     "execution_count": 20,
     "metadata": {},
     "output_type": "execute_result"
    }
   ],
   "source": [
    "type(d)"
   ]
  },
  {
   "cell_type": "code",
   "execution_count": 21,
   "metadata": {
    "collapsed": false
   },
   "outputs": [
    {
     "name": "stdout",
     "output_type": "stream",
     "text": [
      "rate*time\n"
     ]
    }
   ],
   "source": [
    "r = 80\n",
    "t = 2\n",
    "print(d)        # We haven't changed d, only r and t"
   ]
  },
  {
   "cell_type": "code",
   "execution_count": 22,
   "metadata": {
    "collapsed": false
   },
   "outputs": [
    {
     "name": "stdout",
     "output_type": "stream",
     "text": [
      "160\n"
     ]
    }
   ],
   "source": [
    "d = r*t\n",
    "print(d)        # Now d is using the current values of r and t"
   ]
  },
  {
   "cell_type": "markdown",
   "metadata": {},
   "source": [
    "If you need variables that have dependence on each other, you can define functions. Use the ***def*** operator. Indent the body of the function. See the Python docs for more information on defining functions."
   ]
  },
  {
   "cell_type": "code",
   "execution_count": 23,
   "metadata": {
    "collapsed": false
   },
   "outputs": [
    {
     "name": "stdout",
     "output_type": "stream",
     "text": [
      "c\n",
      "d\n"
     ]
    }
   ],
   "source": [
    "c, d = var('c d')\n",
    "print(c)\n",
    "print(d)"
   ]
  },
  {
   "cell_type": "code",
   "execution_count": 24,
   "metadata": {
    "collapsed": false
   },
   "outputs": [
    {
     "data": {
      "text/plain": [
       "c*d"
      ]
     },
     "execution_count": 24,
     "metadata": {},
     "output_type": "execute_result"
    }
   ],
   "source": [
    "def ctimesd():\n",
    "    \"\"\"\n",
    "    This function returns whatever c is times whatever d is.\n",
    "    \"\"\"\n",
    "    return c*d\n",
    "\n",
    "ctimesd()"
   ]
  },
  {
   "cell_type": "code",
   "execution_count": 25,
   "metadata": {
    "collapsed": false
   },
   "outputs": [
    {
     "name": "stdout",
     "output_type": "stream",
     "text": [
      "2\n"
     ]
    }
   ],
   "source": [
    "c = 2\n",
    "print(c)"
   ]
  },
  {
   "cell_type": "code",
   "execution_count": 26,
   "metadata": {
    "collapsed": false
   },
   "outputs": [
    {
     "data": {
      "text/plain": [
       "2*d"
      ]
     },
     "execution_count": 26,
     "metadata": {},
     "output_type": "execute_result"
    }
   ],
   "source": [
    "ctimesd()"
   ]
  },
  {
   "cell_type": "markdown",
   "metadata": {},
   "source": [
    "If you define a circular relationship, you will get a RuntimeError."
   ]
  },
  {
   "cell_type": "code",
   "execution_count": 28,
   "metadata": {
    "collapsed": false
   },
   "outputs": [],
   "source": [
    "def a():\n",
    "        return b()\n",
    "    \n",
    "def b():\n",
    "    return a()\n",
    "\n",
    "# a() "
   ]
  },
  {
   "cell_type": "markdown",
   "metadata": {},
   "source": [
    "## Symbols\n",
    "Symbols are variables, and like all other variables, they ***need to be assigned before you can use them***. For example:"
   ]
  },
  {
   "cell_type": "code",
   "execution_count": 29,
   "metadata": {
    "collapsed": false
   },
   "outputs": [
    {
     "data": {
      "text/plain": [
       "z"
      ]
     },
     "execution_count": 29,
     "metadata": {},
     "output_type": "execute_result"
    }
   ],
   "source": [
    "import sympy\n",
    "# z**2  # z is not defined yet \n",
    "sympy.var('z')  # This is the easiest way to define z as a standard symbol\n",
    "z"
   ]
  },
  {
   "cell_type": "code",
   "execution_count": 30,
   "metadata": {
    "collapsed": false
   },
   "outputs": [
    {
     "data": {
      "text/plain": [
       "z**2"
      ]
     },
     "execution_count": 30,
     "metadata": {},
     "output_type": "execute_result"
    }
   ],
   "source": [
    "z**2"
   ]
  },
  {
   "cell_type": "markdown",
   "metadata": {},
   "source": [
    "If you use ***isympy***, it runs the following commands for you, giving you some default Symbols and Functions."
   ]
  },
  {
   "cell_type": "code",
   "execution_count": 1,
   "metadata": {
    "collapsed": false
   },
   "outputs": [
    {
     "data": {
      "text/plain": [
       "(x, y, z, t, k, m, n, f, g, h)"
      ]
     },
     "execution_count": 1,
     "metadata": {},
     "output_type": "execute_result"
    }
   ],
   "source": [
    "from sympy import symbols, Function\n",
    "x, y, z, t = symbols('x y z t')\n",
    "k, m, n = symbols('k m n', integer=True)\n",
    "f, g, h = symbols('f g h', cls=Function)\n",
    "x, y, z, t, k, m, n, f, g, h"
   ]
  },
  {
   "cell_type": "code",
   "execution_count": 2,
   "metadata": {
    "collapsed": false
   },
   "outputs": [
    {
     "data": {
      "text/plain": [
       "sympy.core.function.UndefinedFunction"
      ]
     },
     "execution_count": 2,
     "metadata": {},
     "output_type": "execute_result"
    }
   ],
   "source": [
    "type(f)"
   ]
  },
  {
   "cell_type": "markdown",
   "metadata": {},
   "source": [
    "You can also import common symbol names from ***sympy.abc***"
   ]
  },
  {
   "cell_type": "code",
   "execution_count": 32,
   "metadata": {
    "collapsed": false
   },
   "outputs": [
    {
     "data": {
      "text/plain": [
       "w"
      ]
     },
     "execution_count": 32,
     "metadata": {},
     "output_type": "execute_result"
    }
   ],
   "source": [
    "from sympy.abc import w\n",
    "w"
   ]
  },
  {
   "cell_type": "code",
   "execution_count": 33,
   "metadata": {
    "collapsed": false
   },
   "outputs": [
    {
     "data": {
      "text/plain": [
       "['A',\n",
       " 'B',\n",
       " 'C',\n",
       " 'D',\n",
       " 'E',\n",
       " 'F',\n",
       " 'G',\n",
       " 'H',\n",
       " 'I',\n",
       " 'J',\n",
       " 'K',\n",
       " 'L',\n",
       " 'M',\n",
       " 'N',\n",
       " 'O',\n",
       " 'P',\n",
       " 'Q',\n",
       " 'R',\n",
       " 'S',\n",
       " 'T',\n",
       " 'U',\n",
       " 'V',\n",
       " 'W',\n",
       " 'X',\n",
       " 'Y',\n",
       " 'Z',\n",
       " '__builtins__',\n",
       " '__cached__',\n",
       " '__doc__',\n",
       " '__file__',\n",
       " '__loader__',\n",
       " '__name__',\n",
       " '__package__',\n",
       " '__spec__',\n",
       " '_clash',\n",
       " '_clash1',\n",
       " '_clash2',\n",
       " 'a',\n",
       " 'alpha',\n",
       " 'b',\n",
       " 'beta',\n",
       " 'c',\n",
       " 'chi',\n",
       " 'd',\n",
       " 'delta',\n",
       " 'division',\n",
       " 'e',\n",
       " 'epsilon',\n",
       " 'eta',\n",
       " 'exec_',\n",
       " 'f',\n",
       " 'g',\n",
       " 'gamma',\n",
       " 'greeks',\n",
       " 'h',\n",
       " 'i',\n",
       " 'iota',\n",
       " 'j',\n",
       " 'k',\n",
       " 'kappa',\n",
       " 'l',\n",
       " 'lamda',\n",
       " 'm',\n",
       " 'mu',\n",
       " 'n',\n",
       " 'nu',\n",
       " 'o',\n",
       " 'omega',\n",
       " 'omicron',\n",
       " 'p',\n",
       " 'phi',\n",
       " 'pi',\n",
       " 'print_function',\n",
       " 'psi',\n",
       " 'q',\n",
       " 'r',\n",
       " 'rho',\n",
       " 's',\n",
       " 'sigma',\n",
       " 'string',\n",
       " 'symbols',\n",
       " 't',\n",
       " 'tau',\n",
       " 'theta',\n",
       " 'u',\n",
       " 'upsilon',\n",
       " 'v',\n",
       " 'w',\n",
       " 'x',\n",
       " 'xi',\n",
       " 'y',\n",
       " 'z',\n",
       " 'zeta']"
      ]
     },
     "execution_count": 33,
     "metadata": {},
     "output_type": "execute_result"
    }
   ],
   "source": [
    "import sympy \n",
    "dir(sympy.abc)  "
   ]
  },
  {
   "cell_type": "markdown",
   "metadata": {},
   "source": [
    "If you want control over the assumptions of the variables, use ***Symbol()*** and ***symbols()***. See Keyword Arguments below.\n",
    "\n",
    "Lastly, it is recommended that you not use ***I, E, S, N, C, O, or Q*** for variable or symbol names, as those are used for the imaginary unit (i), the base of the natural logarithm (e), the sympify() function (see Symbolic Expressions below), numeric evaluation (N() is equivalent to evalf() ), the big O order symbol (as in O(nlogn)), and the assumptions object that holds a list of supported ask keys (such as Q.real), respectively. You can use the mnemonic ***OSINEQ*** to remember what Symbols are defined by default in SymPy. Or better yet, ***always use lowercase letters for Symbol names***. Python will not prevent you from overriding default SymPy names or functions, so be careful."
   ]
  },
  {
   "cell_type": "code",
   "execution_count": 34,
   "metadata": {
    "collapsed": false
   },
   "outputs": [
    {
     "data": {
      "text/plain": [
       "-1.00000000000000"
      ]
     },
     "execution_count": 34,
     "metadata": {},
     "output_type": "execute_result"
    }
   ],
   "source": [
    "cos(pi)  # cos and pi are a built-in sympy names."
   ]
  },
  {
   "cell_type": "code",
   "execution_count": 35,
   "metadata": {
    "collapsed": false
   },
   "outputs": [
    {
     "data": {
      "text/plain": [
       "cos(3)"
      ]
     },
     "execution_count": 35,
     "metadata": {},
     "output_type": "execute_result"
    }
   ],
   "source": [
    "pi = 3   # Notice that there is no warning for overriding pi.\n",
    "cos(pi)"
   ]
  },
  {
   "cell_type": "code",
   "execution_count": 36,
   "metadata": {
    "collapsed": false
   },
   "outputs": [
    {
     "data": {
      "text/plain": [
       "15"
      ]
     },
     "execution_count": 36,
     "metadata": {},
     "output_type": "execute_result"
    }
   ],
   "source": [
    "def cos(x):  # No warning for overriding built-in functions either.\n",
    "    return 5*x\n",
    "cos(pi)"
   ]
  },
  {
   "cell_type": "code",
   "execution_count": 37,
   "metadata": {
    "collapsed": false
   },
   "outputs": [
    {
     "data": {
      "text/plain": [
       "-1"
      ]
     },
     "execution_count": 37,
     "metadata": {},
     "output_type": "execute_result"
    }
   ],
   "source": [
    "\n",
    "from sympy import cos  # reimport to restore normal behavior\n",
    "pi = sympy.pi\n",
    "cos(pi)"
   ]
  },
  {
   "cell_type": "markdown",
   "metadata": {},
   "source": [
    "To get a full list of all default names in SymPy do:"
   ]
  },
  {
   "cell_type": "code",
   "execution_count": 38,
   "metadata": {
    "collapsed": false
   },
   "outputs": [
    {
     "data": {
      "text/plain": [
       "['Abs',\n",
       " 'AccumBounds',\n",
       " 'Add',\n",
       " 'Adjoint',\n",
       " 'AlgebraicField',\n",
       " 'AlgebraicNumber',\n",
       " 'And',\n",
       " 'AppliedPredicate',\n",
       " 'AssumptionsContext',\n",
       " 'Atom',\n",
       " 'AtomicExpr',\n",
       " 'BasePolynomialError',\n",
       " 'Basic',\n",
       " 'BlockDiagMatrix',\n",
       " 'BlockMatrix',\n",
       " 'C',\n",
       " 'CC',\n",
       " 'CRootOf',\n",
       " 'Catalan',\n",
       " 'Chi',\n",
       " 'Ci',\n",
       " 'Circle',\n",
       " 'ClassRegistry',\n",
       " 'CoercionFailed',\n",
       " 'Complement',\n",
       " 'ComplexField',\n",
       " 'ComplexRegion',\n",
       " 'ComplexRootOf',\n",
       " 'ComputationFailed',\n",
       " 'ConditionSet',\n",
       " 'Contains',\n",
       " 'CosineTransform',\n",
       " 'Curve',\n",
       " 'DeferredVector',\n",
       " 'Derivative',\n",
       " 'Determinant',\n",
       " 'DiagonalMatrix',\n",
       " 'DiagonalOf',\n",
       " 'Dict',\n",
       " 'DiracDelta',\n",
       " 'Domain',\n",
       " 'DomainError',\n",
       " 'Dummy',\n",
       " 'E',\n",
       " 'E1',\n",
       " 'EPath',\n",
       " 'EX',\n",
       " 'Ei',\n",
       " 'Eijk',\n",
       " 'Ellipse',\n",
       " 'EmptySequence',\n",
       " 'EmptySet',\n",
       " 'Eq',\n",
       " 'Equality',\n",
       " 'Equivalent',\n",
       " 'EulerGamma',\n",
       " 'EvaluationFailed',\n",
       " 'ExactQuotientFailed',\n",
       " 'Expr',\n",
       " 'ExpressionDomain',\n",
       " 'ExtraneousFactors',\n",
       " 'FF',\n",
       " 'FF_gmpy',\n",
       " 'FF_python',\n",
       " 'FU',\n",
       " 'FallingFactorial',\n",
       " 'FiniteField',\n",
       " 'FiniteSet',\n",
       " 'FlagError',\n",
       " 'Float',\n",
       " 'FourierTransform',\n",
       " 'FractionField',\n",
       " 'Function',\n",
       " 'FunctionClass',\n",
       " 'FunctionMatrix',\n",
       " 'GF',\n",
       " 'GMPYFiniteField',\n",
       " 'GMPYIntegerRing',\n",
       " 'GMPYRationalField',\n",
       " 'Ge',\n",
       " 'GeneratorsError',\n",
       " 'GeneratorsNeeded',\n",
       " 'GeometryError',\n",
       " 'GoldenRatio',\n",
       " 'GramSchmidt',\n",
       " 'GreaterThan',\n",
       " 'GroebnerBasis',\n",
       " 'Gt',\n",
       " 'HadamardProduct',\n",
       " 'HankelTransform',\n",
       " 'Heaviside',\n",
       " 'HeuristicGCDFailed',\n",
       " 'HomomorphismFailed',\n",
       " 'I',\n",
       " 'ITE',\n",
       " 'Id',\n",
       " 'Identity',\n",
       " 'Idx',\n",
       " 'ImageSet',\n",
       " 'ImmutableDenseMatrix',\n",
       " 'ImmutableMatrix',\n",
       " 'ImmutableSparseMatrix',\n",
       " 'Implies',\n",
       " 'Indexed',\n",
       " 'IndexedBase',\n",
       " 'Integer',\n",
       " 'IntegerRing',\n",
       " 'Integral',\n",
       " 'Intersection',\n",
       " 'Interval',\n",
       " 'Inverse',\n",
       " 'InverseCosineTransform',\n",
       " 'InverseFourierTransform',\n",
       " 'InverseHankelTransform',\n",
       " 'InverseLaplaceTransform',\n",
       " 'InverseMellinTransform',\n",
       " 'InverseSineTransform',\n",
       " 'IsomorphismFailed',\n",
       " 'KroneckerDelta',\n",
       " 'LC',\n",
       " 'LM',\n",
       " 'LT',\n",
       " 'Lambda',\n",
       " 'LambertW',\n",
       " 'LaplaceTransform',\n",
       " 'Le',\n",
       " 'LessThan',\n",
       " 'LeviCivita',\n",
       " 'Li',\n",
       " 'Limit',\n",
       " 'Line',\n",
       " 'Line3D',\n",
       " 'Lt',\n",
       " 'MatAdd',\n",
       " 'MatMul',\n",
       " 'MatPow',\n",
       " 'Matrix',\n",
       " 'MatrixBase',\n",
       " 'MatrixExpr',\n",
       " 'MatrixSlice',\n",
       " 'MatrixSymbol',\n",
       " 'Max',\n",
       " 'MellinTransform',\n",
       " 'Min',\n",
       " 'Mod',\n",
       " 'Monomial',\n",
       " 'Mul',\n",
       " 'MultivariatePolynomialError',\n",
       " 'MutableDenseMatrix',\n",
       " 'MutableMatrix',\n",
       " 'MutableSparseMatrix',\n",
       " 'N',\n",
       " 'Nand',\n",
       " 'Ne',\n",
       " 'NonSquareMatrixError',\n",
       " 'Nor',\n",
       " 'Not',\n",
       " 'NotAlgebraic',\n",
       " 'NotInvertible',\n",
       " 'NotReversible',\n",
       " 'Number',\n",
       " 'NumberSymbol',\n",
       " 'O',\n",
       " 'OperationNotSupported',\n",
       " 'OptionError',\n",
       " 'Options',\n",
       " 'Or',\n",
       " 'Order',\n",
       " 'POSform',\n",
       " 'Piecewise',\n",
       " 'Plane',\n",
       " 'Point',\n",
       " 'Point2D',\n",
       " 'Point3D',\n",
       " 'PoleError',\n",
       " 'PolificationFailed',\n",
       " 'Poly',\n",
       " 'Polygon',\n",
       " 'PolynomialDivisionFailed',\n",
       " 'PolynomialError',\n",
       " 'PolynomialRing',\n",
       " 'Pow',\n",
       " 'PrecisionExhausted',\n",
       " 'Predicate',\n",
       " 'Product',\n",
       " 'ProductSet',\n",
       " 'PurePoly',\n",
       " 'PythonFiniteField',\n",
       " 'PythonIntegerRing',\n",
       " 'PythonRationalField',\n",
       " 'Q',\n",
       " 'QQ',\n",
       " 'QQ_gmpy',\n",
       " 'QQ_python',\n",
       " 'RR',\n",
       " 'Range',\n",
       " 'Rational',\n",
       " 'RationalField',\n",
       " 'Ray',\n",
       " 'Ray3D',\n",
       " 'RealField',\n",
       " 'RealNumber',\n",
       " 'RefinementFailed',\n",
       " 'RegularPolygon',\n",
       " 'Rel',\n",
       " 'RisingFactorial',\n",
       " 'RootOf',\n",
       " 'RootSum',\n",
       " 'S',\n",
       " 'SOPform',\n",
       " 'SYMPY_DEBUG',\n",
       " 'Segment',\n",
       " 'Segment3D',\n",
       " 'SeqAdd',\n",
       " 'SeqFormula',\n",
       " 'SeqMul',\n",
       " 'SeqPer',\n",
       " 'Set',\n",
       " 'ShapeError',\n",
       " 'Shi',\n",
       " 'Si',\n",
       " 'Sieve',\n",
       " 'SineTransform',\n",
       " 'SparseMatrix',\n",
       " 'StrictGreaterThan',\n",
       " 'StrictLessThan',\n",
       " 'Subs',\n",
       " 'Sum',\n",
       " 'Symbol',\n",
       " 'SymmetricDifference',\n",
       " 'SympifyError',\n",
       " 'TableForm',\n",
       " 'Trace',\n",
       " 'Transpose',\n",
       " 'Triangle',\n",
       " 'Tuple',\n",
       " 'Unequality',\n",
       " 'UnificationFailed',\n",
       " 'Union',\n",
       " 'UnivariatePolynomialError',\n",
       " 'Wild',\n",
       " 'WildFunction',\n",
       " 'Xor',\n",
       " 'Ynm',\n",
       " 'Ynm_c',\n",
       " 'ZZ',\n",
       " 'ZZ_gmpy',\n",
       " 'ZZ_python',\n",
       " 'ZeroMatrix',\n",
       " 'Znm',\n",
       " '__builtins__',\n",
       " '__cached__',\n",
       " '__doc__',\n",
       " '__file__',\n",
       " '__loader__',\n",
       " '__name__',\n",
       " '__package__',\n",
       " '__path__',\n",
       " '__spec__',\n",
       " '__sympy_debug',\n",
       " '__version__',\n",
       " 'abc',\n",
       " 'acos',\n",
       " 'acosh',\n",
       " 'acot',\n",
       " 'acoth',\n",
       " 'acsc',\n",
       " 'add',\n",
       " 'adjoint',\n",
       " 'airyai',\n",
       " 'airyaiprime',\n",
       " 'airybi',\n",
       " 'airybiprime',\n",
       " 'apart',\n",
       " 'apart_list',\n",
       " 'apply_finite_diff',\n",
       " 'are_similar',\n",
       " 'arg',\n",
       " 'as_finite_diff',\n",
       " 'asec',\n",
       " 'asech',\n",
       " 'asin',\n",
       " 'asinh',\n",
       " 'ask',\n",
       " 'ask_generated',\n",
       " 'assemble_partfrac_list',\n",
       " 'assoc_laguerre',\n",
       " 'assoc_legendre',\n",
       " 'assume',\n",
       " 'assuming',\n",
       " 'assumptions',\n",
       " 'atan',\n",
       " 'atan2',\n",
       " 'atanh',\n",
       " 'basic',\n",
       " 'bell',\n",
       " 'bernoulli',\n",
       " 'besseli',\n",
       " 'besselj',\n",
       " 'besselk',\n",
       " 'besselsimp',\n",
       " 'bessely',\n",
       " 'beta',\n",
       " 'binomial',\n",
       " 'binomial_coefficients',\n",
       " 'binomial_coefficients_list',\n",
       " 'bivariate',\n",
       " 'block_collapse',\n",
       " 'blockcut',\n",
       " 'bool_map',\n",
       " 'boolalg',\n",
       " 'bottom_up',\n",
       " 'bspline_basis',\n",
       " 'bspline_basis_set',\n",
       " 'cache',\n",
       " 'cacheit',\n",
       " 'calculus',\n",
       " 'cancel',\n",
       " 'capture',\n",
       " 'cartes',\n",
       " 'casoratian',\n",
       " 'catalan',\n",
       " 'cbrt',\n",
       " 'ccode',\n",
       " 'ceiling',\n",
       " 'centroid',\n",
       " 'chebyshevt',\n",
       " 'chebyshevt_poly',\n",
       " 'chebyshevt_root',\n",
       " 'chebyshevu',\n",
       " 'chebyshevu_poly',\n",
       " 'chebyshevu_root',\n",
       " 'checkodesol',\n",
       " 'checkpdesol',\n",
       " 'checksol',\n",
       " 'class_registry',\n",
       " 'classify_ode',\n",
       " 'classify_pde',\n",
       " 'closest_points',\n",
       " 'cofactors',\n",
       " 'collect',\n",
       " 'collect_const',\n",
       " 'combinatorial',\n",
       " 'combsimp',\n",
       " 'comp',\n",
       " 'compatibility',\n",
       " 'compose',\n",
       " 'concrete',\n",
       " 'conditionset',\n",
       " 'conjugate',\n",
       " 'construct_domain',\n",
       " 'containers',\n",
       " 'contains',\n",
       " 'content',\n",
       " 'continued_fraction',\n",
       " 'continued_fraction_convergents',\n",
       " 'continued_fraction_iterator',\n",
       " 'continued_fraction_periodic',\n",
       " 'continued_fraction_reduce',\n",
       " 'convex_hull',\n",
       " 'core',\n",
       " 'coreerrors',\n",
       " 'cos',\n",
       " 'cosh',\n",
       " 'cosine_transform',\n",
       " 'cot',\n",
       " 'coth',\n",
       " 'count_ops',\n",
       " 'count_roots',\n",
       " 'csc',\n",
       " 'csch',\n",
       " 'cse',\n",
       " 'cse_main',\n",
       " 'cse_opts',\n",
       " 'curve',\n",
       " 'cycle_length',\n",
       " 'cyclotomic_poly',\n",
       " 'decompogen',\n",
       " 'decompose',\n",
       " 'decorator',\n",
       " 'decorators',\n",
       " 'default_sort_key',\n",
       " 'deg',\n",
       " 'degree',\n",
       " 'degree_list',\n",
       " 'denom',\n",
       " 'dense',\n",
       " 'deprecated',\n",
       " 'det',\n",
       " 'det_quick',\n",
       " 'deutils',\n",
       " 'diag',\n",
       " 'dict_merge',\n",
       " 'diff',\n",
       " 'difference_delta',\n",
       " 'digamma',\n",
       " 'dirichlet_eta',\n",
       " 'discriminant',\n",
       " 'div',\n",
       " 'divisor_count',\n",
       " 'divisor_sigma',\n",
       " 'divisors',\n",
       " 'doctest',\n",
       " 'dsolve',\n",
       " 'egyptian_fraction',\n",
       " 'elementary',\n",
       " 'ellipse',\n",
       " 'elliptic_e',\n",
       " 'elliptic_f',\n",
       " 'elliptic_k',\n",
       " 'elliptic_pi',\n",
       " 'entity',\n",
       " 'enumerative',\n",
       " 'epath',\n",
       " 'epathtools',\n",
       " 'erf',\n",
       " 'erf2',\n",
       " 'erf2inv',\n",
       " 'erfc',\n",
       " 'erfcinv',\n",
       " 'erfi',\n",
       " 'erfinv',\n",
       " 'euler',\n",
       " 'euler_equations',\n",
       " 'evalf',\n",
       " 'evaluate',\n",
       " 'exceptions',\n",
       " 'exp',\n",
       " 'exp_polar',\n",
       " 'expand',\n",
       " 'expand_complex',\n",
       " 'expand_func',\n",
       " 'expand_log',\n",
       " 'expand_mul',\n",
       " 'expand_multinomial',\n",
       " 'expand_power_base',\n",
       " 'expand_power_exp',\n",
       " 'expand_trig',\n",
       " 'expint',\n",
       " 'expr',\n",
       " 'expr_with_intlimits',\n",
       " 'expr_with_limits',\n",
       " 'expressions',\n",
       " 'exprtools',\n",
       " 'exptrigsimp',\n",
       " 'exquo',\n",
       " 'external',\n",
       " 'eye',\n",
       " 'factor',\n",
       " 'factor_',\n",
       " 'factor_list',\n",
       " 'factor_nc',\n",
       " 'factor_terms',\n",
       " 'factorial',\n",
       " 'factorial2',\n",
       " 'factorint',\n",
       " 'factorrat',\n",
       " 'facts',\n",
       " 'false',\n",
       " 'fancysets',\n",
       " 'farthest_points',\n",
       " 'fcode',\n",
       " 'ff',\n",
       " 'fibonacci',\n",
       " 'field',\n",
       " 'field_isomorphism',\n",
       " 'filldedent',\n",
       " 'finite_diff',\n",
       " 'finite_diff_weights',\n",
       " 'flatten',\n",
       " 'floor',\n",
       " 'fourier_series',\n",
       " 'fourier_transform',\n",
       " 'fps',\n",
       " 'frac',\n",
       " 'fraction',\n",
       " 'fresnelc',\n",
       " 'fresnels',\n",
       " 'fu',\n",
       " 'function',\n",
       " 'functions',\n",
       " 'gamma',\n",
       " 'gcd',\n",
       " 'gcd_list',\n",
       " 'gcd_terms',\n",
       " 'gcdex',\n",
       " 'gegenbauer',\n",
       " 'generate',\n",
       " 'genocchi',\n",
       " 'geometry',\n",
       " 'get_contraction_structure',\n",
       " 'get_indices',\n",
       " 'gff',\n",
       " 'gff_list',\n",
       " 'gosper',\n",
       " 'grevlex',\n",
       " 'grlex',\n",
       " 'groebner',\n",
       " 'ground_roots',\n",
       " 'group',\n",
       " 'gruntz',\n",
       " 'hadamard_product',\n",
       " 'half_gcdex',\n",
       " 'hankel1',\n",
       " 'hankel2',\n",
       " 'hankel_transform',\n",
       " 'harmonic',\n",
       " 'has_dups',\n",
       " 'has_variety',\n",
       " 'hermite',\n",
       " 'hermite_poly',\n",
       " 'hessian',\n",
       " 'hn1',\n",
       " 'hn2',\n",
       " 'homogeneous_order',\n",
       " 'horner',\n",
       " 'hyper',\n",
       " 'hyperexpand',\n",
       " 'hypersimilar',\n",
       " 'hypersimp',\n",
       " 'idiff',\n",
       " 'igcd',\n",
       " 'igrevlex',\n",
       " 'igrlex',\n",
       " 'ilcm',\n",
       " 'ilex',\n",
       " 'im',\n",
       " 'imageset',\n",
       " 'immutable',\n",
       " 'index_methods',\n",
       " 'indexed',\n",
       " 'inequalities',\n",
       " 'inference',\n",
       " 'init_printing',\n",
       " 'init_session',\n",
       " 'integer_nthroot',\n",
       " 'integrals',\n",
       " 'integrate',\n",
       " 'interactive',\n",
       " 'interactive_traversal',\n",
       " 'interpolate',\n",
       " 'interpolating_poly',\n",
       " 'intersection',\n",
       " 'intervals',\n",
       " 'inv_quick',\n",
       " 'inverse_cosine_transform',\n",
       " 'inverse_fourier_transform',\n",
       " 'inverse_hankel_transform',\n",
       " 'inverse_laplace_transform',\n",
       " 'inverse_mellin_transform',\n",
       " 'inverse_sine_transform',\n",
       " 'invert',\n",
       " 'is_decreasing',\n",
       " 'is_increasing',\n",
       " 'is_monotonic',\n",
       " 'is_nthpow_residue',\n",
       " 'is_primitive_root',\n",
       " 'is_quad_residue',\n",
       " 'is_strictly_decreasing',\n",
       " 'is_strictly_increasing',\n",
       " 'is_zero_dimensional',\n",
       " 'isolate',\n",
       " 'isprime',\n",
       " 'iterables',\n",
       " 'itermonomials',\n",
       " 'jacobi',\n",
       " 'jacobi_normalized',\n",
       " 'jacobi_poly',\n",
       " 'jacobi_symbol',\n",
       " 'jn',\n",
       " 'jn_zeros',\n",
       " 'jordan_cell',\n",
       " 'jscode',\n",
       " 'julia_code',\n",
       " 'laguerre',\n",
       " 'laguerre_poly',\n",
       " 'lambdify',\n",
       " 'laplace_transform',\n",
       " 'latex',\n",
       " 'lcm',\n",
       " 'lcm_list',\n",
       " 'legendre',\n",
       " 'legendre_poly',\n",
       " 'legendre_symbol',\n",
       " 'lerchphi',\n",
       " 'lex',\n",
       " 'li',\n",
       " 'limit',\n",
       " 'limit_seq',\n",
       " 'line',\n",
       " 'line3d',\n",
       " 'line_integrate',\n",
       " 'linear_eq_to_matrix',\n",
       " 'linsolve',\n",
       " 'list2numpy',\n",
       " 'ln',\n",
       " 'log',\n",
       " 'logcombine',\n",
       " 'loggamma',\n",
       " 'logic',\n",
       " 'lowergamma',\n",
       " 'lucas',\n",
       " 'magic',\n",
       " 'manualintegrate',\n",
       " 'mathematica_code',\n",
       " 'mathieuc',\n",
       " 'mathieucprime',\n",
       " 'mathieus',\n",
       " 'mathieusprime',\n",
       " 'matrices',\n",
       " 'matrix2numpy',\n",
       " 'matrix_multiply_elementwise',\n",
       " 'matrix_symbols',\n",
       " 'meijerg',\n",
       " 'meijerint',\n",
       " 'mellin_transform',\n",
       " 'memoization',\n",
       " 'memoize_property',\n",
       " 'minimal_polynomial',\n",
       " 'minpoly',\n",
       " 'misc',\n",
       " 'mobius',\n",
       " 'mod',\n",
       " 'mod_inverse',\n",
       " 'monic',\n",
       " 'mpmath',\n",
       " 'mul',\n",
       " 'multidimensional',\n",
       " 'multinomial',\n",
       " 'multinomial_coefficients',\n",
       " 'multiplicity',\n",
       " 'n_order',\n",
       " 'nan',\n",
       " 'nextprime',\n",
       " 'nfloat',\n",
       " 'not_empty_in',\n",
       " 'npartitions',\n",
       " 'nroots',\n",
       " 'nsimplify',\n",
       " 'nsolve',\n",
       " 'nth_power_roots_poly',\n",
       " 'ntheory',\n",
       " 'nthroot_mod',\n",
       " 'numbered_symbols',\n",
       " 'numbers',\n",
       " 'numer',\n",
       " 'octave_code',\n",
       " 'ode',\n",
       " 'ode_order',\n",
       " 'ones',\n",
       " 'oo',\n",
       " 'operations',\n",
       " 'ordered',\n",
       " 'pager_print',\n",
       " 'parallel_poly_from_expr',\n",
       " 'parsing',\n",
       " 'partitions_',\n",
       " 'pde',\n",
       " 'pde_separate',\n",
       " 'pde_separate_add',\n",
       " 'pde_separate_mul',\n",
       " 'pdiv',\n",
       " 'pdsolve',\n",
       " 'perfect_power',\n",
       " 'periodic_argument',\n",
       " 'pexquo',\n",
       " 'pi',\n",
       " 'piecewise_fold',\n",
       " 'plane',\n",
       " 'plot',\n",
       " 'plot_backends',\n",
       " 'plot_implicit',\n",
       " 'plotting',\n",
       " 'point',\n",
       " 'polar_lift',\n",
       " 'polarify',\n",
       " 'pollard_pm1',\n",
       " 'pollard_rho',\n",
       " 'poly',\n",
       " 'poly_from_expr',\n",
       " 'polygamma',\n",
       " 'polygon',\n",
       " 'polylog',\n",
       " 'polys',\n",
       " 'polysys',\n",
       " 'posify',\n",
       " 'postfixes',\n",
       " 'postorder_traversal',\n",
       " 'powdenest',\n",
       " 'power',\n",
       " 'powsimp',\n",
       " 'pprint',\n",
       " 'pprint_try_use_unicode',\n",
       " 'pprint_use_unicode',\n",
       " 'pquo',\n",
       " 'prefixes',\n",
       " 'prem',\n",
       " 'preorder_traversal',\n",
       " 'pretty',\n",
       " 'pretty_print',\n",
       " 'preview',\n",
       " 'prevprime',\n",
       " 'prime',\n",
       " 'primefactors',\n",
       " 'primepi',\n",
       " 'primerange',\n",
       " 'primetest',\n",
       " 'primitive',\n",
       " 'primitive_element',\n",
       " 'primitive_root',\n",
       " 'primorial',\n",
       " 'principal_branch',\n",
       " 'print_gtk',\n",
       " 'print_python',\n",
       " 'print_tree',\n",
       " 'printing',\n",
       " 'prod',\n",
       " 'product',\n",
       " 'products',\n",
       " 'public',\n",
       " 'python',\n",
       " 'quadratic_residues',\n",
       " 'quo',\n",
       " 'rad',\n",
       " 'radsimp',\n",
       " 'randMatrix',\n",
       " 'random_poly',\n",
       " 'randprime',\n",
       " 'rational_interpolate',\n",
       " 'ratsimp',\n",
       " 'ratsimpmodprime',\n",
       " 'rcollect',\n",
       " 're',\n",
       " 'real_root',\n",
       " 'real_roots',\n",
       " 'recurr',\n",
       " 'reduce_abs_inequalities',\n",
       " 'reduce_abs_inequality',\n",
       " 'reduce_inequalities',\n",
       " 'reduced',\n",
       " 'refine',\n",
       " 'refine_root',\n",
       " 'register_handler',\n",
       " 'relational',\n",
       " 'release',\n",
       " 'rem',\n",
       " 'remove_handler',\n",
       " 'reshape',\n",
       " 'residue',\n",
       " 'residue_ntheory',\n",
       " 'resultant',\n",
       " 'rf',\n",
       " 'ring',\n",
       " 'root',\n",
       " 'rootof',\n",
       " 'roots',\n",
       " 'rot_axis1',\n",
       " 'rot_axis2',\n",
       " 'rot_axis3',\n",
       " 'rsolve',\n",
       " 'rsolve_hyper',\n",
       " 'rsolve_poly',\n",
       " 'rsolve_ratio',\n",
       " 'rules',\n",
       " 'runtests',\n",
       " 'satisfiable',\n",
       " 'sec',\n",
       " 'sech',\n",
       " 'separatevars',\n",
       " 'sequence',\n",
       " 'series',\n",
       " 'seterr',\n",
       " 'sets',\n",
       " 'sfield',\n",
       " 'sieve',\n",
       " 'sift',\n",
       " 'sign',\n",
       " 'signsimp',\n",
       " 'simplify',\n",
       " 'simplify_logic',\n",
       " 'sin',\n",
       " 'sinc',\n",
       " 'sine_transform',\n",
       " 'singleton',\n",
       " 'singularities',\n",
       " 'sinh',\n",
       " 'solve',\n",
       " 'solve_linear',\n",
       " 'solve_linear_system',\n",
       " 'solve_linear_system_LU',\n",
       " 'solve_poly_inequality',\n",
       " 'solve_poly_system',\n",
       " 'solve_rational_inequalities',\n",
       " 'solve_triangulated',\n",
       " 'solve_undetermined_coeffs',\n",
       " 'solve_univariate_inequality',\n",
       " 'solvers',\n",
       " 'solveset',\n",
       " 'source',\n",
       " 'sparse',\n",
       " 'special',\n",
       " 'sqf',\n",
       " 'sqf_list',\n",
       " 'sqf_norm',\n",
       " 'sqf_part',\n",
       " 'sqrt',\n",
       " 'sqrt_mod',\n",
       " 'sqrt_mod_iter',\n",
       " 'sqrtdenest',\n",
       " 'srepr',\n",
       " 'sring',\n",
       " 'sstr',\n",
       " 'sstrrepr',\n",
       " 'stieltjes',\n",
       " 'strategies',\n",
       " 'sturm',\n",
       " 'subfactorial',\n",
       " 'subresultants',\n",
       " 'subsets',\n",
       " 'summation',\n",
       " 'summations',\n",
       " 'swinnerton_dyer_poly',\n",
       " 'symarray',\n",
       " 'symbol',\n",
       " 'symbols',\n",
       " 'symmetric_poly',\n",
       " 'symmetrize',\n",
       " 'sympify',\n",
       " 'take',\n",
       " 'tan',\n",
       " 'tanh',\n",
       " 'tensor',\n",
       " 'terms_gcd',\n",
       " 'test',\n",
       " 'textplot',\n",
       " 'threaded',\n",
       " 'timed',\n",
       " 'timeutils',\n",
       " 'to_cnf',\n",
       " 'to_dnf',\n",
       " 'to_nnf',\n",
       " 'to_number_field',\n",
       " 'together',\n",
       " 'topological_sort',\n",
       " 'totient',\n",
       " 'trace',\n",
       " 'trailing',\n",
       " 'transforms',\n",
       " 'transpose',\n",
       " 'traversaltools',\n",
       " 'trigamma',\n",
       " 'trigonometry',\n",
       " 'trigsimp',\n",
       " 'true',\n",
       " 'trunc',\n",
       " 'unbranched_argument',\n",
       " 'unflatten',\n",
       " 'unpolarify',\n",
       " 'uppergamma',\n",
       " 'use',\n",
       " 'util',\n",
       " 'utilities',\n",
       " 'var',\n",
       " 'variations',\n",
       " 'vectorize',\n",
       " 'vfield',\n",
       " 'viete',\n",
       " 'vring',\n",
       " 'wronskian',\n",
       " 'xfield',\n",
       " 'xring',\n",
       " 'xthreaded',\n",
       " 'yn',\n",
       " 'zeros',\n",
       " 'zeta',\n",
       " 'zoo']"
      ]
     },
     "execution_count": 38,
     "metadata": {},
     "output_type": "execute_result"
    }
   ],
   "source": [
    "import sympy\n",
    "dir(sympy)  "
   ]
  },
  {
   "cell_type": "markdown",
   "metadata": {},
   "source": [
    "If you have IPython installed and use isympy, you can also press the TAB key to get a list of all built-in names and to autocomplete. Also, see this page for a trick for getting tab completion in the regular Python console."
   ]
  },
  {
   "cell_type": "markdown",
   "metadata": {},
   "source": [
    "## Symbolic Expressions\n",
    "### Python numbers vs. SymPy Numbers\n",
    "SymPy uses its own classes for integers, rational numbers, and floating point numbers instead of the default Python int and float types because it allows for more control. But you have to be careful. If you type ***an expression that just has numbers in it, it will default to a Python expression***. Use the ***sympify()*** function, or just ***S()***, to ensure that something is a SymPy expression."
   ]
  },
  {
   "cell_type": "code",
   "execution_count": 39,
   "metadata": {
    "collapsed": false
   },
   "outputs": [
    {
     "data": {
      "text/plain": [
       "6.2"
      ]
     },
     "execution_count": 39,
     "metadata": {},
     "output_type": "execute_result"
    }
   ],
   "source": [
    "from sympy import S\n",
    "6.2  # Python float. Notice the floating point accuracy problems."
   ]
  },
  {
   "cell_type": "code",
   "execution_count": 40,
   "metadata": {
    "collapsed": false
   },
   "outputs": [
    {
     "data": {
      "text/plain": [
       "float"
      ]
     },
     "execution_count": 40,
     "metadata": {},
     "output_type": "execute_result"
    }
   ],
   "source": [
    "type(6.2)"
   ]
  },
  {
   "cell_type": "code",
   "execution_count": 41,
   "metadata": {
    "collapsed": false
   },
   "outputs": [
    {
     "data": {
      "text/plain": [
       "6.20000000000000"
      ]
     },
     "execution_count": 41,
     "metadata": {},
     "output_type": "execute_result"
    }
   ],
   "source": [
    "S(6.2)  # SymPy Float has no such problems because of arbitrary precision."
   ]
  },
  {
   "cell_type": "code",
   "execution_count": 42,
   "metadata": {
    "collapsed": false
   },
   "outputs": [
    {
     "data": {
      "text/plain": [
       "sympy.core.numbers.Float"
      ]
     },
     "execution_count": 42,
     "metadata": {},
     "output_type": "execute_result"
    }
   ],
   "source": [
    "type(S(6.2))"
   ]
  },
  {
   "cell_type": "markdown",
   "metadata": {},
   "source": [
    "If you include numbers in a SymPy expression, they will be sympified automatically, but there is one gotcha you should be aware of. If you do $<number>/<number>$ inside of a SymPy expression, Python will evaluate the two numbers before SymPy has a chance to get to them. The solution is to ***sympify()*** one of the numbers, or use ***Rational***."
   ]
  },
  {
   "cell_type": "code",
   "execution_count": 43,
   "metadata": {
    "collapsed": false
   },
   "outputs": [
    {
     "data": {
      "text/plain": [
       "x**0.5"
      ]
     },
     "execution_count": 43,
     "metadata": {},
     "output_type": "execute_result"
    }
   ],
   "source": [
    "x**(1/2)  # evaluates to x**0 or x**0.5"
   ]
  },
  {
   "cell_type": "code",
   "execution_count": 44,
   "metadata": {
    "collapsed": false
   },
   "outputs": [
    {
     "data": {
      "text/plain": [
       "sqrt(x)"
      ]
     },
     "execution_count": 44,
     "metadata": {},
     "output_type": "execute_result"
    }
   ],
   "source": [
    "x**(S(1)/2)  # sympyify one of the ints"
   ]
  },
  {
   "cell_type": "code",
   "execution_count": 45,
   "metadata": {
    "collapsed": false
   },
   "outputs": [
    {
     "data": {
      "text/plain": [
       "sqrt(x)"
      ]
     },
     "execution_count": 45,
     "metadata": {},
     "output_type": "execute_result"
    }
   ],
   "source": [
    "from sympy import Rational, sqrt\n",
    "x**Rational(1, 2)  # use the Rational class"
   ]
  },
  {
   "cell_type": "markdown",
   "metadata": {},
   "source": [
    "With a power of 1/2 you can also use ***sqrt*** shorthand:"
   ]
  },
  {
   "cell_type": "code",
   "execution_count": 46,
   "metadata": {
    "collapsed": false
   },
   "outputs": [
    {
     "data": {
      "text/plain": [
       "True"
      ]
     },
     "execution_count": 46,
     "metadata": {},
     "output_type": "execute_result"
    }
   ],
   "source": [
    "sqrt(x) == x**Rational(1, 2) "
   ]
  },
  {
   "cell_type": "markdown",
   "metadata": {},
   "source": [
    "If the two integers are not directly separated by a division sign then you don’t have to worry about this problem:"
   ]
  },
  {
   "cell_type": "code",
   "execution_count": 47,
   "metadata": {
    "collapsed": false
   },
   "outputs": [
    {
     "data": {
      "text/plain": [
       "x**(2*x/3)"
      ]
     },
     "execution_count": 47,
     "metadata": {},
     "output_type": "execute_result"
    }
   ],
   "source": [
    "x**(2*x/3)"
   ]
  },
  {
   "cell_type": "markdown",
   "metadata": {},
   "source": [
    "#### Note:\n",
    "A common mistake is copying an expression that is printed and reusing it. If the expression has a Rational (i.e., <number>/<number>) in it, you will not get the same result, obtaining the Python result for the division rather than a SymPy Rational."
   ]
  },
  {
   "cell_type": "code",
   "execution_count": 48,
   "metadata": {
    "collapsed": false
   },
   "outputs": [
    {
     "name": "stdout",
     "output_type": "stream",
     "text": [
      "[22/7]\n"
     ]
    }
   ],
   "source": [
    "from sympy import solve\n",
    "x = Symbol('x')\n",
    "print(solve(7*x -22, x))"
   ]
  },
  {
   "cell_type": "code",
   "execution_count": 49,
   "metadata": {
    "collapsed": false
   },
   "outputs": [
    {
     "data": {
      "text/plain": [
       "3.142857142857143"
      ]
     },
     "execution_count": 49,
     "metadata": {},
     "output_type": "execute_result"
    }
   ],
   "source": [
    "22/7  "
   ]
  },
  {
   "cell_type": "code",
   "execution_count": 50,
   "metadata": {
    "collapsed": false
   },
   "outputs": [
    {
     "data": {
      "text/plain": [
       "[22/7]"
      ]
     },
     "execution_count": 50,
     "metadata": {},
     "output_type": "execute_result"
    }
   ],
   "source": [
    "# If we just copy and paste we get int 3 or a float\n",
    "# One solution is to just assign the expression to a variable\n",
    "# if we need to use it again.\n",
    "a = solve(7*x - 22, x)\n",
    "a"
   ]
  },
  {
   "cell_type": "code",
   "execution_count": 51,
   "metadata": {
    "collapsed": false
   },
   "outputs": [
    {
     "data": {
      "text/plain": [
       "list"
      ]
     },
     "execution_count": 51,
     "metadata": {},
     "output_type": "execute_result"
    }
   ],
   "source": [
    "type(a)"
   ]
  },
  {
   "cell_type": "markdown",
   "metadata": {},
   "source": [
    "The other solution is to put quotes around the expression and run it through S() (i.e., sympify it):"
   ]
  },
  {
   "cell_type": "code",
   "execution_count": 52,
   "metadata": {
    "collapsed": false
   },
   "outputs": [
    {
     "data": {
      "text/plain": [
       "22/7"
      ]
     },
     "execution_count": 52,
     "metadata": {},
     "output_type": "execute_result"
    }
   ],
   "source": [
    "S(\"22/7\")"
   ]
  },
  {
   "cell_type": "markdown",
   "metadata": {},
   "source": [
    "***Rational*** only works for ***number/number*** and is only meant for rational numbers. If you want a fraction with symbols or expressions in it, just use /. If you do ***number/expression or expression/number***, then the number will automatically be converted into a SymPy Number. ***You only need to be careful with number/number***."
   ]
  },
  {
   "cell_type": "code",
   "execution_count": 53,
   "metadata": {
    "collapsed": false
   },
   "outputs": [],
   "source": [
    "# Rational(2, x)"
   ]
  },
  {
   "cell_type": "code",
   "execution_count": 54,
   "metadata": {
    "collapsed": false
   },
   "outputs": [
    {
     "data": {
      "text/plain": [
       "2/x"
      ]
     },
     "execution_count": 54,
     "metadata": {},
     "output_type": "execute_result"
    }
   ],
   "source": [
    "2/x"
   ]
  },
  {
   "cell_type": "code",
   "execution_count": 55,
   "metadata": {
    "collapsed": false
   },
   "outputs": [
    {
     "data": {
      "text/plain": [
       "sympy.core.mul.Mul"
      ]
     },
     "execution_count": 55,
     "metadata": {},
     "output_type": "execute_result"
    }
   ],
   "source": [
    "type(2/x)"
   ]
  },
  {
   "cell_type": "markdown",
   "metadata": {},
   "source": [
    "## Evaluating Expressions with Floats and Rationals\n",
    "SymPy keeps track of the precision of Float objects. The ***default precision is 15 digits***. When an expression involving a Float is evaluated, the result will be expressed to 15 digits of precision but those digits (depending on the numbers involved with the calculation) may not all be significant.\n",
    "\n",
    "The first issue to keep in mind is ***how the Float is created***: it is created with ***a value and a precision***. The precision indicates how precise of a value to use when that Float (or an expression it appears in) is evaluated.\n",
    "\n",
    "The values can be given as strings, integers, floats, or rationals.\n",
    "\n",
    "- strings and integers are interpreted as exact"
   ]
  },
  {
   "cell_type": "code",
   "execution_count": 56,
   "metadata": {
    "collapsed": false
   },
   "outputs": [
    {
     "data": {
      "text/plain": [
       "100.000000000000"
      ]
     },
     "execution_count": 56,
     "metadata": {},
     "output_type": "execute_result"
    }
   ],
   "source": [
    "from sympy import Float\n",
    "Float(100)"
   ]
  },
  {
   "cell_type": "code",
   "execution_count": 57,
   "metadata": {
    "collapsed": false
   },
   "outputs": [
    {
     "data": {
      "text/plain": [
       "100."
      ]
     },
     "execution_count": 57,
     "metadata": {},
     "output_type": "execute_result"
    }
   ],
   "source": [
    "Float('100.', 3)"
   ]
  },
  {
   "cell_type": "markdown",
   "metadata": {},
   "source": [
    "- to have the precision match the number of digits, the ***null string*** can be used for the precision"
   ]
  },
  {
   "cell_type": "code",
   "execution_count": 58,
   "metadata": {
    "collapsed": false
   },
   "outputs": [
    {
     "data": {
      "text/plain": [
       "100."
      ]
     },
     "execution_count": 58,
     "metadata": {},
     "output_type": "execute_result"
    }
   ],
   "source": [
    "Float(100, '')"
   ]
  },
  {
   "cell_type": "code",
   "execution_count": 59,
   "metadata": {
    "collapsed": false
   },
   "outputs": [
    {
     "data": {
      "text/plain": [
       "12.3400000000000"
      ]
     },
     "execution_count": 59,
     "metadata": {},
     "output_type": "execute_result"
    }
   ],
   "source": [
    "Float('12.34')"
   ]
  },
  {
   "cell_type": "code",
   "execution_count": 60,
   "metadata": {
    "collapsed": false
   },
   "outputs": [
    {
     "data": {
      "text/plain": [
       "12.34"
      ]
     },
     "execution_count": 60,
     "metadata": {},
     "output_type": "execute_result"
    }
   ],
   "source": [
    "Float('12.34', '')"
   ]
  },
  {
   "cell_type": "code",
   "execution_count": 61,
   "metadata": {
    "collapsed": false
   },
   "outputs": [
    {
     "name": "stdout",
     "output_type": "stream",
     "text": [
      "0.250\n",
      "0.143\n"
     ]
    }
   ],
   "source": [
    "s, r = [Float(j, 3) for j in ('0.25', Rational(1, 7))]\n",
    "for f in [s, r]:\n",
    "    print(f)"
   ]
  },
  {
   "cell_type": "markdown",
   "metadata": {},
   "source": [
    "Next, notice that each of those values looks correct to 3 digits. But if we try to evaluate them to 20 digits, a difference will become apparent:\n",
    "\n",
    "The 0.25 (with precision of 3) represents a number that has a non-repeating binary decimal; 1/7 is repeating in binary and decimal – it cannot be represented accurately too far past those first 3 digits (the correct decimal is a repeating 142857):"
   ]
  },
  {
   "cell_type": "code",
   "execution_count": 62,
   "metadata": {
    "collapsed": false
   },
   "outputs": [
    {
     "data": {
      "text/plain": [
       "0.25000000000000000000"
      ]
     },
     "execution_count": 62,
     "metadata": {},
     "output_type": "execute_result"
    }
   ],
   "source": [
    "s.n(20)"
   ]
  },
  {
   "cell_type": "code",
   "execution_count": 63,
   "metadata": {
    "collapsed": false
   },
   "outputs": [
    {
     "data": {
      "text/plain": [
       "0.14285278320312500000"
      ]
     },
     "execution_count": 63,
     "metadata": {},
     "output_type": "execute_result"
    }
   ],
   "source": [
    "r.n(20)"
   ]
  },
  {
   "cell_type": "markdown",
   "metadata": {},
   "source": [
    "It is important to realize that although a Float is being displayed in decimal at aritrary precision, it is actually stored in binary. ***Once the Float is created, its binary information is set at the given precision***. The accuracy of that value cannot be subsequently changed; so 1/7, at a precision of 3 digits, can be padded with binary zeros, but these will not make it a more accurate value of 1/7.\n",
    "\n",
    "If inexact, low-precision numbers are involved in a calculation with with higher precision values, the evalf engine will increase the precision of the low precision values and inexact results will be obtained. This is feature of calculations with limited precision:"
   ]
  },
  {
   "cell_type": "code",
   "execution_count": 64,
   "metadata": {
    "collapsed": false
   },
   "outputs": [
    {
     "data": {
      "text/plain": [
       "0.2000061035"
      ]
     },
     "execution_count": 64,
     "metadata": {},
     "output_type": "execute_result"
    }
   ],
   "source": [
    "Float('0.1', 10) + Float('0.1', 3) "
   ]
  },
  {
   "cell_type": "markdown",
   "metadata": {},
   "source": [
    "Although the evalf engine tried to maintain 10 digits of precision (since that was the highest precision represented) the 3-digit precision used limits the accuracy to about 4 digits – not all the digits you see are significant. evalf doesn’t try to keep track of the number of significant digits.\n",
    "\n",
    "That very simple expression involving the addition of two numbers with different precisions will hopefully be instructive in helping you understand why more complicated expressions (like trig expressions that may not be simplified) will not evaluate to an exact zero even though, with the right simplification, they should be zero. Consider this unsimplified trig identity, multiplied by a big number:"
   ]
  },
  {
   "cell_type": "code",
   "execution_count": 65,
   "metadata": {
    "collapsed": false
   },
   "outputs": [
    {
     "data": {
      "text/plain": [
       "12345678901234567890*sin(x)**2 + 12345678901234567890*cos(x)**2 - 12345678901234567890"
      ]
     },
     "execution_count": 65,
     "metadata": {},
     "output_type": "execute_result"
    }
   ],
   "source": [
    "big = 12345678901234567890\n",
    "\n",
    "big_trig_identity = big*cos(x)**2 + big*sin(x)**2 - big*1\n",
    "big_trig_identity"
   ]
  },
  {
   "cell_type": "code",
   "execution_count": 66,
   "metadata": {
    "collapsed": false
   },
   "outputs": [
    {
     "data": {
      "text/plain": [
       "True"
      ]
     },
     "execution_count": 66,
     "metadata": {},
     "output_type": "execute_result"
    }
   ],
   "source": [
    "abs(big_trig_identity.subs(x, .1).n(2)) > 1000"
   ]
  },
  {
   "cell_type": "code",
   "execution_count": 67,
   "metadata": {
    "collapsed": false
   },
   "outputs": [
    {
     "data": {
      "text/plain": [
       "1.4e+3"
      ]
     },
     "execution_count": 67,
     "metadata": {},
     "output_type": "execute_result"
    }
   ],
   "source": [
    "abs(big_trig_identity.subs(x, .1).n(2))"
   ]
  },
  {
   "cell_type": "markdown",
   "metadata": {},
   "source": [
    "When the cos and sin terms were evaluated to 15 digits of precision and multiplied by the big number, they gave a large number that was only precise to 15 digits (approximately) and when the 20 digit big number was subtracted the result was not zero.\n",
    "\n",
    "There are three things that will help you obtain more precise numerical values for expressions:\n",
    "\n",
    "- Pass the desired substitutions with the call to evaluate. By doing the subs first, the Float values can not be updated as necessary. By passing the desired substitutions with the call to evalf the ability to re-evaluate as necessary is gained and the results are impressively better:"
   ]
  },
  {
   "cell_type": "code",
   "execution_count": 68,
   "metadata": {
    "collapsed": false
   },
   "outputs": [
    {
     "data": {
      "text/plain": [
       "-0.e-91"
      ]
     },
     "execution_count": 68,
     "metadata": {},
     "output_type": "execute_result"
    }
   ],
   "source": [
    "big_trig_identity.n(2, {x: 0.1}) "
   ]
  },
  {
   "cell_type": "markdown",
   "metadata": {},
   "source": [
    " Use ***Rationals***, not Floats. During the evaluation process, the ***Rational can be computed to an arbitrary precision*** while the Float, once created – at a default of 15 digits – cannot. Compare the value of -1.4e+3 above with the nearly zero value obtained when replacing x with a Rational representing 1/10 – before the call to evaluate:"
   ]
  },
  {
   "cell_type": "code",
   "execution_count": 69,
   "metadata": {
    "collapsed": false
   },
   "outputs": [
    {
     "data": {
      "text/plain": [
       "0.e-91"
      ]
     },
     "execution_count": 69,
     "metadata": {},
     "output_type": "execute_result"
    }
   ],
   "source": [
    "abs(big_trig_identity.subs(x, Rational(1./10.)).n(2))"
   ]
  },
  {
   "cell_type": "code",
   "execution_count": 70,
   "metadata": {
    "collapsed": false
   },
   "outputs": [
    {
     "data": {
      "text/plain": [
       "0.e-91"
      ]
     },
     "execution_count": 70,
     "metadata": {},
     "output_type": "execute_result"
    }
   ],
   "source": [
    " big_trig_identity.subs(x, S('1/10')).n(2) "
   ]
  },
  {
   "cell_type": "markdown",
   "metadata": {},
   "source": [
    "Try to ***simplify*** the expression. In this case, SymPy will recognize the trig identity and simplify it to zero so you don’t even have to evaluate it numerically: "
   ]
  },
  {
   "cell_type": "code",
   "execution_count": 71,
   "metadata": {
    "collapsed": false
   },
   "outputs": [
    {
     "data": {
      "text/plain": [
       "0"
      ]
     },
     "execution_count": 71,
     "metadata": {},
     "output_type": "execute_result"
    }
   ],
   "source": [
    " big_trig_identity.simplify() "
   ]
  },
  {
   "cell_type": "markdown",
   "metadata": {},
   "source": [
    "## Immutability of Expressions\n",
    "Expressions in SymPy are ***immutable***, and cannot be modified by an in-place operation. This means that ***a function will always return an object, and the original expression will not be modified***. The following example snippet demonstrates how this works:"
   ]
  },
  {
   "cell_type": "code",
   "execution_count": 72,
   "metadata": {
    "collapsed": false
   },
   "outputs": [
    {
     "name": "stdout",
     "output_type": "stream",
     "text": [
      "original = 3*x + 4*y\n",
      "modified = 3*a + 4*b\n"
     ]
    }
   ],
   "source": [
    "def main():\n",
    "    var('x y a b')\n",
    "    expr = 3*x + 4*y\n",
    "    print('original =', expr)\n",
    "    expr_modified = expr.subs({x: a, y: b})\n",
    "    print('modified =', expr_modified)\n",
    "\n",
    "\n",
    "main()"
   ]
  },
  {
   "cell_type": "markdown",
   "metadata": {},
   "source": [
    "The output shows that the subs() function has replaced variable x with variable a, and variable y with variable b:"
   ]
  },
  {
   "cell_type": "code",
   "execution_count": 73,
   "metadata": {
    "collapsed": true
   },
   "outputs": [],
   "source": [
    "original = 3*x + 4*y\n",
    "modified = 3*a + 4*b"
   ]
  },
  {
   "cell_type": "markdown",
   "metadata": {},
   "source": [
    "The subs() function does not modify the original expression expr. Rather, a modified ***copy*** of the expression is returned. This returned object is stored in the variable expr_modified. Note that unlike C/C++ and other high-level languages, Python does not require you to declare a variable before it is used."
   ]
  },
  {
   "cell_type": "markdown",
   "metadata": {},
   "source": [
    "## Mathematical Operators\n",
    "SymPy uses the same default operators as Python. Most of these, like $*/+-$, are standard. Aside from integer division discussed in Python numbers vs. SymPy Numbers above, you should also be aware that ***implied multiplication is not allowed***. You need to use * whenever you wish to multiply something. Also, to raise something to a power, use $**$, not ^ as many computer algebra systems use. Parentheses () change operator precedence as you would normally expect.\n",
    "\n",
    "In isympy, with the ipython shell:\n",
    "```\n",
    ">>> 2x\n",
    "Traceback (most recent call last):\n",
    "...\n",
    "SyntaxError: invalid syntax\n",
    ">>> 2*x\n",
    "2*x\n",
    ">>> (x + 1)^2  # This is not power.  Use ** instead.\n",
    "Traceback (most recent call last):\n",
    "...\n",
    "TypeError: unsupported operand type(s) for ^: 'Add' and 'int'\n",
    ">>> (x + 1)**2\n",
    "(x + 1)**2\n",
    ">>> pprint(3 - x**(2*x)/(x + 1))\n",
    "    2*x\n",
    "   x\n",
    "- ----- + 3\n",
    "  x + 1\n",
    "\n",
    "```"
   ]
  },
  {
   "cell_type": "markdown",
   "metadata": {},
   "source": [
    "## Inverse Trig Functions\n",
    "SymPy uses different names for some functions than most computer algebra systems. In particular, the inverse trig functions use the python names of ***asin(), acos()*** and so on instead of the usual arcsin and arccos. Use the methods described in Symbols above to see the names of all SymPy functions.\n",
    "\n",
    "## Special Symbols\n",
    "The symbols [], {}, =, and () have special meanings in Python, and thus in SymPy. See the Python docs linked to above for additional information.\n",
    "\n",
    "## Lists\n",
    "Square brackets [] denote a list. A list is a container that holds any number of different objects. A list can contain anything, including items of different types. Lists are mutable, which means that you can change the elements of a list after it has been created. You access the items of a list also using square brackets, placing them after the list or list variable. Items are numbered using the space before the item.\n",
    "\n",
    "#### Note:\n",
    "List indexes begin at 0. "
   ]
  },
  {
   "cell_type": "code",
   "execution_count": 74,
   "metadata": {
    "collapsed": false
   },
   "outputs": [
    {
     "data": {
      "text/plain": [
       "[x, 1]"
      ]
     },
     "execution_count": 74,
     "metadata": {},
     "output_type": "execute_result"
    }
   ],
   "source": [
    "a = [x, 1]  # A simple list of two items\n",
    "a"
   ]
  },
  {
   "cell_type": "code",
   "execution_count": 75,
   "metadata": {
    "collapsed": false
   },
   "outputs": [
    {
     "data": {
      "text/plain": [
       "x"
      ]
     },
     "execution_count": 75,
     "metadata": {},
     "output_type": "execute_result"
    }
   ],
   "source": [
    "a[0]  # This is the first item"
   ]
  },
  {
   "cell_type": "code",
   "execution_count": 76,
   "metadata": {
    "collapsed": false
   },
   "outputs": [
    {
     "name": "stdout",
     "output_type": "stream",
     "text": [
      "[2, 1]\n"
     ]
    }
   ],
   "source": [
    "a[0] = 2  # You can change values of lists after they have been created\n",
    "print(a)"
   ]
  },
  {
   "cell_type": "code",
   "execution_count": 77,
   "metadata": {
    "collapsed": false
   },
   "outputs": [
    {
     "name": "stdout",
     "output_type": "stream",
     "text": [
      "[-1 + sqrt(2), -sqrt(2) - 1]\n"
     ]
    }
   ],
   "source": [
    "print(solve(x**2 + 2*x - 1, x)) # Some functions return lists"
   ]
  },
  {
   "cell_type": "markdown",
   "metadata": {},
   "source": [
    "## Dictionaries\n",
    "Curly brackets {} denote a dictionary, or a dict for short. A dictionary is an unordered list of non-duplicate keys and values. The syntax is {key: value}. You can access values of keys using square bracket notation."
   ]
  },
  {
   "cell_type": "code",
   "execution_count": 78,
   "metadata": {
    "collapsed": false
   },
   "outputs": [
    {
     "data": {
      "text/plain": [
       "{'a': 1, 'b': 2}"
      ]
     },
     "execution_count": 78,
     "metadata": {},
     "output_type": "execute_result"
    }
   ],
   "source": [
    "d = {'a': 1, 'b': 2}  # A dictionary.\n",
    "d"
   ]
  },
  {
   "cell_type": "code",
   "execution_count": 79,
   "metadata": {
    "collapsed": false
   },
   "outputs": [
    {
     "data": {
      "text/plain": [
       "1"
      ]
     },
     "execution_count": 79,
     "metadata": {},
     "output_type": "execute_result"
    }
   ],
   "source": [
    "d['a']  # How to access items in a dict"
   ]
  },
  {
   "cell_type": "code",
   "execution_count": 80,
   "metadata": {
    "collapsed": false
   },
   "outputs": [
    {
     "data": {
      "text/plain": [
       "{1: 2, 2: 1}"
      ]
     },
     "execution_count": 80,
     "metadata": {},
     "output_type": "execute_result"
    }
   ],
   "source": [
    "from sympy import roots\n",
    "roots((x - 1)**2*(x - 2), x)  # Some functions return dicts"
   ]
  },
  {
   "cell_type": "code",
   "execution_count": 81,
   "metadata": {
    "collapsed": false
   },
   "outputs": [
    {
     "data": {
      "text/plain": [
       "{-3: 1, 5: 2}"
      ]
     },
     "execution_count": 81,
     "metadata": {},
     "output_type": "execute_result"
    }
   ],
   "source": [
    "# Some SymPy functions return dictionaries.  For example,\n",
    "# roots returns a dictionary of root:multiplicity items.\n",
    "roots((x - 5)**2*(x + 3), x)"
   ]
  },
  {
   "cell_type": "markdown",
   "metadata": {},
   "source": [
    "## Tuples\n",
    "Parentheses (), aside from changing operator precedence and their use in function calls, (like cos(x)), are also used for tuples. A tuple is identical to a list, except that it is not mutable. That means that you can not change their values after they have been created. In general, you will not need tuples in SymPy, but sometimes it can be more convenient to type parentheses instead of square brackets."
   ]
  },
  {
   "cell_type": "code",
   "execution_count": 82,
   "metadata": {
    "collapsed": false
   },
   "outputs": [
    {
     "data": {
      "text/plain": [
       "(1, 2, x)"
      ]
     },
     "execution_count": 82,
     "metadata": {},
     "output_type": "execute_result"
    }
   ],
   "source": [
    "t = (1, 2, x)  # Tuples are like lists\n",
    "t"
   ]
  },
  {
   "cell_type": "code",
   "execution_count": 83,
   "metadata": {
    "collapsed": false
   },
   "outputs": [
    {
     "data": {
      "text/plain": [
       "1"
      ]
     },
     "execution_count": 83,
     "metadata": {},
     "output_type": "execute_result"
    }
   ],
   "source": [
    "t[0]"
   ]
  },
  {
   "cell_type": "code",
   "execution_count": 84,
   "metadata": {
    "collapsed": false
   },
   "outputs": [],
   "source": [
    "# t[0] = 4  # Except you can not change them after they have been created"
   ]
  },
  {
   "cell_type": "markdown",
   "metadata": {},
   "source": [
    "Single element tuples, unlike lists, must have a comma in them:"
   ]
  },
  {
   "cell_type": "code",
   "execution_count": 85,
   "metadata": {
    "collapsed": false
   },
   "outputs": [
    {
     "data": {
      "text/plain": [
       "tuple"
      ]
     },
     "execution_count": 85,
     "metadata": {},
     "output_type": "execute_result"
    }
   ],
   "source": [
    "type((x,))"
   ]
  },
  {
   "cell_type": "markdown",
   "metadata": {},
   "source": [
    "Without the comma, a single expression without a comma is not a tuple:"
   ]
  },
  {
   "cell_type": "code",
   "execution_count": 86,
   "metadata": {
    "collapsed": false
   },
   "outputs": [
    {
     "data": {
      "text/plain": [
       "sympy.core.symbol.Symbol"
      ]
     },
     "execution_count": 86,
     "metadata": {},
     "output_type": "execute_result"
    }
   ],
   "source": [
    "type((x))"
   ]
  },
  {
   "cell_type": "markdown",
   "metadata": {},
   "source": [
    "integrate takes a sequence as the second argument if you want to integrate with limits (and a tuple or list will work):"
   ]
  },
  {
   "cell_type": "code",
   "execution_count": 87,
   "metadata": {
    "collapsed": false
   },
   "outputs": [
    {
     "data": {
      "text/plain": [
       "1/3"
      ]
     },
     "execution_count": 87,
     "metadata": {},
     "output_type": "execute_result"
    }
   ],
   "source": [
    "from sympy import integrate\n",
    "integrate(x**2, (x, 0, 1)) "
   ]
  },
  {
   "cell_type": "code",
   "execution_count": 88,
   "metadata": {
    "collapsed": false
   },
   "outputs": [
    {
     "data": {
      "text/plain": [
       "1/3"
      ]
     },
     "execution_count": 88,
     "metadata": {},
     "output_type": "execute_result"
    }
   ],
   "source": [
    "integrate(x**2, [x, 0, 1]) "
   ]
  },
  {
   "cell_type": "markdown",
   "metadata": {},
   "source": [
    "## Keyword Arguments\n",
    "Aside from the usage described above, equals signs (=) are also used to give named arguments to functions. Any function that has key=value in its parameters list (see below on how to find this out), then key is set to value by default. You can change the value of the key by supplying your own value using the equals sign in the function call. Also, functions that have $**$ followed by a name in the parameters list (usually **kwargs or **assumptions) allow you to add any number of key=value pairs that you want, and they will all be evaluated according to the function.\n",
    "\n",
    "$sqrt(x**2)$ doesn’t auto simplify to x because ***x is assumed to be complex by default***, and, for example, $sqrt((-1)**2) == sqrt(1) == 1 != -1$:"
   ]
  },
  {
   "cell_type": "code",
   "execution_count": 89,
   "metadata": {
    "collapsed": false
   },
   "outputs": [
    {
     "data": {
      "text/plain": [
       "sqrt(x**2)"
      ]
     },
     "execution_count": 89,
     "metadata": {},
     "output_type": "execute_result"
    }
   ],
   "source": [
    "sqrt(x**2) "
   ]
  },
  {
   "cell_type": "markdown",
   "metadata": {},
   "source": [
    "Giving assumptions to Symbols is an example of using the keyword argument:"
   ]
  },
  {
   "cell_type": "code",
   "execution_count": 90,
   "metadata": {
    "collapsed": false
   },
   "outputs": [
    {
     "data": {
      "text/plain": [
       "x"
      ]
     },
     "execution_count": 90,
     "metadata": {},
     "output_type": "execute_result"
    }
   ],
   "source": [
    "x = Symbol('x', positive=True)\n",
    "sqrt(x**2) "
   ]
  },
  {
   "cell_type": "markdown",
   "metadata": {},
   "source": [
    "The square root will now simplify since it knows that x >= 0:"
   ]
  },
  {
   "cell_type": "markdown",
   "metadata": {},
   "source": [
    "***powsimp*** has a default argument of ***combine='all'***:"
   ]
  },
  {
   "cell_type": "code",
   "execution_count": 91,
   "metadata": {
    "collapsed": false
   },
   "outputs": [
    {
     "data": {
      "text/plain": [
       "(x*y)**(m + n)"
      ]
     },
     "execution_count": 91,
     "metadata": {},
     "output_type": "execute_result"
    }
   ],
   "source": [
    "from sympy import powsimp\n",
    "powsimp(x**n*x**m*y**n*y**m)"
   ]
  },
  {
   "cell_type": "markdown",
   "metadata": {},
   "source": [
    "Setting combine to the default value is the same as not setting it."
   ]
  },
  {
   "cell_type": "code",
   "execution_count": 92,
   "metadata": {
    "collapsed": false
   },
   "outputs": [
    {
     "data": {
      "text/plain": [
       "(x*y)**(m + n)"
      ]
     },
     "execution_count": 92,
     "metadata": {},
     "output_type": "execute_result"
    }
   ],
   "source": [
    "powsimp(x**n*x**m*y**n*y**m, combine='all')"
   ]
  },
  {
   "cell_type": "markdown",
   "metadata": {},
   "source": [
    "The non-default options are '***exp***', which combines exponents..."
   ]
  },
  {
   "cell_type": "code",
   "execution_count": 93,
   "metadata": {
    "collapsed": false
   },
   "outputs": [
    {
     "data": {
      "text/plain": [
       "x**(m + n)*y**(m + n)"
      ]
     },
     "execution_count": 93,
     "metadata": {},
     "output_type": "execute_result"
    }
   ],
   "source": [
    "powsimp(x**n*x**m*y**n*y**m, combine='exp')"
   ]
  },
  {
   "cell_type": "markdown",
   "metadata": {},
   "source": [
    "...and ‘***base***’, which combines bases."
   ]
  },
  {
   "cell_type": "code",
   "execution_count": 94,
   "metadata": {
    "collapsed": false
   },
   "outputs": [
    {
     "data": {
      "text/plain": [
       "(x*y)**m*(x*y)**n"
      ]
     },
     "execution_count": 94,
     "metadata": {},
     "output_type": "execute_result"
    }
   ],
   "source": [
    "powsimp(x**n*x**m*y**n*y**m, combine='base')"
   ]
  },
  {
   "cell_type": "markdown",
   "metadata": {},
   "source": [
    "## Getting help from within SymPy\n",
    "### help()\n",
    "Although all docs are available at docs.sympy.org or on the SymPy Wiki, you can also get info on functions from within the Python interpreter that runs SymPy. The easiest way to do this is to do help(function), or function? if you are using ipython:\n",
    "```\n",
    "help(powsimp)  # help() works everywhere\n",
    "\n",
    "In [2]: # But in ipython, you can also use ?, which is better because it\n",
    "In [3]: # it gives you more information\n",
    "In [4]: powsimp?\n",
    "```"
   ]
  },
  {
   "cell_type": "markdown",
   "metadata": {},
   "source": [
    "### source()\n",
    "Another useful option is the **source()*** function. This will print the source code of a function, including any docstring that it may have. You can also do ***function??*** in ipython. For example, from SymPy 0.6.5:"
   ]
  },
  {
   "cell_type": "code",
   "execution_count": 96,
   "metadata": {
    "collapsed": false
   },
   "outputs": [
    {
     "name": "stdout",
     "output_type": "stream",
     "text": [
      "In file: /home/wei/anaconda3/lib/python3.6/site-packages/sympy/simplify/simplify.py\n",
      "\n",
      "def simplify(expr, ratio=1.7, measure=count_ops, fu=False):\n",
      "    \"\"\"\n",
      "    Simplifies the given expression.\n",
      "\n",
      "    Simplification is not a well defined term and the exact strategies\n",
      "    this function tries can change in the future versions of SymPy. If\n",
      "    your algorithm relies on \"simplification\" (whatever it is), try to\n",
      "    determine what you need exactly  -  is it powsimp()?, radsimp()?,\n",
      "    together()?, logcombine()?, or something else? And use this particular\n",
      "    function directly, because those are well defined and thus your algorithm\n",
      "    will be robust.\n",
      "\n",
      "    Nonetheless, especially for interactive use, or when you don't know\n",
      "    anything about the structure of the expression, simplify() tries to apply\n",
      "    intelligent heuristics to make the input expression \"simpler\".  For\n",
      "    example:\n",
      "\n",
      "    >>> from sympy import simplify, cos, sin\n",
      "    >>> from sympy.abc import x, y\n",
      "    >>> a = (x + x**2)/(x*sin(y)**2 + x*cos(y)**2)\n",
      "    >>> a\n",
      "    (x**2 + x)/(x*sin(y)**2 + x*cos(y)**2)\n",
      "    >>> simplify(a)\n",
      "    x + 1\n",
      "\n",
      "    Note that we could have obtained the same result by using specific\n",
      "    simplification functions:\n",
      "\n",
      "    >>> from sympy import trigsimp, cancel\n",
      "    >>> trigsimp(a)\n",
      "    (x**2 + x)/x\n",
      "    >>> cancel(_)\n",
      "    x + 1\n",
      "\n",
      "    In some cases, applying :func:`simplify` may actually result in some more\n",
      "    complicated expression. The default ``ratio=1.7`` prevents more extreme\n",
      "    cases: if (result length)/(input length) > ratio, then input is returned\n",
      "    unmodified.  The ``measure`` parameter lets you specify the function used\n",
      "    to determine how complex an expression is.  The function should take a\n",
      "    single argument as an expression and return a number such that if\n",
      "    expression ``a`` is more complex than expression ``b``, then\n",
      "    ``measure(a) > measure(b)``.  The default measure function is\n",
      "    :func:`count_ops`, which returns the total number of operations in the\n",
      "    expression.\n",
      "\n",
      "    For example, if ``ratio=1``, ``simplify`` output can't be longer\n",
      "    than input.\n",
      "\n",
      "    ::\n",
      "\n",
      "        >>> from sympy import sqrt, simplify, count_ops, oo\n",
      "        >>> root = 1/(sqrt(2)+3)\n",
      "\n",
      "    Since ``simplify(root)`` would result in a slightly longer expression,\n",
      "    root is returned unchanged instead::\n",
      "\n",
      "       >>> simplify(root, ratio=1) == root\n",
      "       True\n",
      "\n",
      "    If ``ratio=oo``, simplify will be applied anyway::\n",
      "\n",
      "        >>> count_ops(simplify(root, ratio=oo)) > count_ops(root)\n",
      "        True\n",
      "\n",
      "    Note that the shortest expression is not necessary the simplest, so\n",
      "    setting ``ratio`` to 1 may not be a good idea.\n",
      "    Heuristically, the default value ``ratio=1.7`` seems like a reasonable\n",
      "    choice.\n",
      "\n",
      "    You can easily define your own measure function based on what you feel\n",
      "    should represent the \"size\" or \"complexity\" of the input expression.  Note\n",
      "    that some choices, such as ``lambda expr: len(str(expr))`` may appear to be\n",
      "    good metrics, but have other problems (in this case, the measure function\n",
      "    may slow down simplify too much for very large expressions).  If you don't\n",
      "    know what a good metric would be, the default, ``count_ops``, is a good\n",
      "    one.\n",
      "\n",
      "    For example:\n",
      "\n",
      "    >>> from sympy import symbols, log\n",
      "    >>> a, b = symbols('a b', positive=True)\n",
      "    >>> g = log(a) + log(b) + log(a)*log(1/b)\n",
      "    >>> h = simplify(g)\n",
      "    >>> h\n",
      "    log(a*b**(-log(a) + 1))\n",
      "    >>> count_ops(g)\n",
      "    8\n",
      "    >>> count_ops(h)\n",
      "    5\n",
      "\n",
      "    So you can see that ``h`` is simpler than ``g`` using the count_ops metric.\n",
      "    However, we may not like how ``simplify`` (in this case, using\n",
      "    ``logcombine``) has created the ``b**(log(1/a) + 1)`` term.  A simple way\n",
      "    to reduce this would be to give more weight to powers as operations in\n",
      "    ``count_ops``.  We can do this by using the ``visual=True`` option:\n",
      "\n",
      "    >>> print(count_ops(g, visual=True))\n",
      "    2*ADD + DIV + 4*LOG + MUL\n",
      "    >>> print(count_ops(h, visual=True))\n",
      "    2*LOG + MUL + POW + SUB\n",
      "\n",
      "    >>> from sympy import Symbol, S\n",
      "    >>> def my_measure(expr):\n",
      "    ...     POW = Symbol('POW')\n",
      "    ...     # Discourage powers by giving POW a weight of 10\n",
      "    ...     count = count_ops(expr, visual=True).subs(POW, 10)\n",
      "    ...     # Every other operation gets a weight of 1 (the default)\n",
      "    ...     count = count.replace(Symbol, type(S.One))\n",
      "    ...     return count\n",
      "    >>> my_measure(g)\n",
      "    8\n",
      "    >>> my_measure(h)\n",
      "    14\n",
      "    >>> 15./8 > 1.7 # 1.7 is the default ratio\n",
      "    True\n",
      "    >>> simplify(g, measure=my_measure)\n",
      "    -log(a)*log(b) + log(a) + log(b)\n",
      "\n",
      "    Note that because ``simplify()`` internally tries many different\n",
      "    simplification strategies and then compares them using the measure\n",
      "    function, we get a completely different result that is still different\n",
      "    from the input expression by doing this.\n",
      "    \"\"\"\n",
      "    expr = sympify(expr)\n",
      "\n",
      "    try:\n",
      "        return expr._eval_simplify(ratio=ratio, measure=measure)\n",
      "    except AttributeError:\n",
      "        pass\n",
      "\n",
      "    original_expr = expr = signsimp(expr)\n",
      "\n",
      "    from sympy.simplify.hyperexpand import hyperexpand\n",
      "    from sympy.functions.special.bessel import BesselBase\n",
      "    from sympy import Sum, Product\n",
      "\n",
      "    if not isinstance(expr, Basic) or not expr.args:  # XXX: temporary hack\n",
      "        return expr\n",
      "\n",
      "    if not isinstance(expr, (Add, Mul, Pow, ExpBase)):\n",
      "        if isinstance(expr, Function) and hasattr(expr, \"inverse\"):\n",
      "            if len(expr.args) == 1 and len(expr.args[0].args) == 1 and \\\n",
      "               isinstance(expr.args[0], expr.inverse(argindex=1)):\n",
      "                return simplify(expr.args[0].args[0], ratio=ratio,\n",
      "                                measure=measure, fu=fu)\n",
      "        return expr.func(*[simplify(x, ratio=ratio, measure=measure, fu=fu)\n",
      "                         for x in expr.args])\n",
      "\n",
      "    # TODO: Apply different strategies, considering expression pattern:\n",
      "    # is it a purely rational function? Is there any trigonometric function?...\n",
      "    # See also https://github.com/sympy/sympy/pull/185.\n",
      "\n",
      "    def shorter(*choices):\n",
      "        '''Return the choice that has the fewest ops. In case of a tie,\n",
      "        the expression listed first is selected.'''\n",
      "        if not has_variety(choices):\n",
      "            return choices[0]\n",
      "        return min(choices, key=measure)\n",
      "\n",
      "    expr = bottom_up(expr, lambda w: w.normal())\n",
      "    expr = Mul(*powsimp(expr).as_content_primitive())\n",
      "    _e = cancel(expr)\n",
      "    expr1 = shorter(_e, _mexpand(_e).cancel())  # issue 6829\n",
      "    expr2 = shorter(together(expr, deep=True), together(expr1, deep=True))\n",
      "\n",
      "    if ratio is S.Infinity:\n",
      "        expr = expr2\n",
      "    else:\n",
      "        expr = shorter(expr2, expr1, expr)\n",
      "    if not isinstance(expr, Basic):  # XXX: temporary hack\n",
      "        return expr\n",
      "\n",
      "    expr = factor_terms(expr, sign=False)\n",
      "\n",
      "    # hyperexpand automatically only works on hypergeometric terms\n",
      "    expr = hyperexpand(expr)\n",
      "\n",
      "    expr = piecewise_fold(expr)\n",
      "\n",
      "    if expr.has(BesselBase):\n",
      "        expr = besselsimp(expr)\n",
      "\n",
      "    if expr.has(TrigonometricFunction) and not fu or expr.has(\n",
      "            HyperbolicFunction):\n",
      "        expr = trigsimp(expr, deep=True)\n",
      "\n",
      "    if expr.has(log):\n",
      "        expr = shorter(expand_log(expr, deep=True), logcombine(expr))\n",
      "\n",
      "    if expr.has(CombinatorialFunction, gamma):\n",
      "        expr = combsimp(expr)\n",
      "\n",
      "    if expr.has(Sum):\n",
      "        expr = sum_simplify(expr)\n",
      "\n",
      "    if expr.has(Product):\n",
      "        expr = product_simplify(expr)\n",
      "\n",
      "    short = shorter(powsimp(expr, combine='exp', deep=True), powsimp(expr), expr)\n",
      "    short = shorter(short, factor_terms(short), expand_power_exp(expand_mul(short)))\n",
      "    if short.has(TrigonometricFunction, HyperbolicFunction, ExpBase):\n",
      "        short = exptrigsimp(short, simplify=False)\n",
      "\n",
      "    # get rid of hollow 2-arg Mul factorization\n",
      "    hollow_mul = Transform(\n",
      "        lambda x: Mul(*x.args),\n",
      "        lambda x:\n",
      "        x.is_Mul and\n",
      "        len(x.args) == 2 and\n",
      "        x.args[0].is_Number and\n",
      "        x.args[1].is_Add and\n",
      "        x.is_commutative)\n",
      "    expr = short.xreplace(hollow_mul)\n",
      "\n",
      "    numer, denom = expr.as_numer_denom()\n",
      "    if denom.is_Add:\n",
      "        n, d = fraction(radsimp(1/denom, symbolic=False, max_terms=1))\n",
      "        if n is not S.One:\n",
      "            expr = (numer*n).expand()/d\n",
      "\n",
      "    if expr.could_extract_minus_sign():\n",
      "        n, d = fraction(expr)\n",
      "        if d != 0:\n",
      "            expr = signsimp(-n/(-d))\n",
      "\n",
      "    if measure(expr) > ratio*measure(original_expr):\n",
      "        expr = original_expr\n",
      "\n",
      "    return expr\n",
      "\n"
     ]
    }
   ],
   "source": [
    "source(simplify)  # simplify() is actually only 2 lines of code. "
   ]
  },
  {
   "cell_type": "code",
   "execution_count": null,
   "metadata": {
    "collapsed": true
   },
   "outputs": [],
   "source": []
  }
 ],
 "metadata": {
  "kernelspec": {
   "display_name": "Python 3",
   "language": "python",
   "name": "python3"
  },
  "language_info": {
   "codemirror_mode": {
    "name": "ipython",
    "version": 3
   },
   "file_extension": ".py",
   "mimetype": "text/x-python",
   "name": "python",
   "nbconvert_exporter": "python",
   "pygments_lexer": "ipython3",
   "version": "3.6.0"
  }
 },
 "nbformat": 4,
 "nbformat_minor": 2
}
