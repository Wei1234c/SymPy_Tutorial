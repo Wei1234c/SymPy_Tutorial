{
 "cells": [
  {
   "cell_type": "markdown",
   "metadata": {},
   "source": [
    "# 1. Preliminaries\n",
    "http://docs.sympy.org/latest/tutorial/preliminaries.html"
   ]
  },
  {
   "cell_type": "markdown",
   "metadata": {},
   "source": [
    "This tutorial assumes that the reader already knows the basics of the Python programming language. If you do not, the official Python tutorial is excellent.\n",
    "\n",
    "This tutorial assumes a decent mathematical background. Most examples require knowledge lower than a calculus level, and some require knowledge at a calculus level. Some of the advanced features require more than this. If you come across a section that uses some mathematical function you are not familiar with, you can probably skip over it, or replace it with a similar one that you are more familiar with. Or look up the function on Wikipedia and learn something new. Some important mathematical concepts that are not common knowledge will be introduced as necessary.\n",
    "\n",
    "## Installation\n",
    "#### Quick Tip\n",
    "> You do not need to install SymPy to try it. You can use the online shell at http://live.sympy.org, or the shell at the bottom right of this documentation page.\n",
    "\n",
    "You will need to install SymPy first. See the installation guide.\n",
    "\n",
    "Alternately, you can just use the SymPy Live Sphinx extension to run the code blocks in the browser. For example, click on the green “Run code block in SymPy Live” button below\n",
    "\n",
    "Run code block in SymPy Live\n",
    "```\n",
    ">>> from sympy import *\n",
    ">>> x = symbols('x')\n",
    ">>> a = Integral(cos(x)*exp(x), x)\n",
    ">>> Eq(a, a.doit())\n",
    "Eq(Integral(exp(x)*cos(x), x), exp(x)*sin(x)/2 + exp(x)*cos(x)/2)\n",
    "```\n",
    "The SymPy Live shell in the bottom corner will pop up and evaluate the code block. You can also click any individual line to evaluate it one at a time.\n",
    "\n",
    "The SymPy Live shell is a fully interactive Python shell. You can type any expression in the input box to evaluate it. Feel free to use it throughout the tutorial to experiment.\n",
    "\n",
    "To show or hide the SymPy Live shell at any time, just click the green button on the bottom right of the screen.\n",
    "\n",
    "By default, the SymPy Live shell uses LATEXLATEX for output. If you want the output to look more like the output in the documentation, change the output format to Str or Unicode in the settings.\n",
    "\n",
    "If you wish to modify an example before evaluating it, change the evaluation mode to “copy” in the SymPy Live settings. This will cause clicking on an example to copy the example to the SymPy Live shell, but not evaluate it, allowing you to change it before execution. You can also use the up/down arrow keys on your keyboard in the input box to move through the shell history.\n",
    "\n",
    "The SymPy Live shell is also available at http://live.sympy.org, with extra features, like a mobile phone enhanced version and saved history.\n",
    "\n",
    "## Exercises\n",
    "This tutorial was the basis for a tutorial given at the 2013 SciPy conference in Austin, TX. The website for that tutorial is here. It has links to videos, materials, and IPython notebook exercises. The IPython notebook exercises in particular are recommended to anyone going through this tutorial.\n",
    "\n",
    "## About This Tutorial\n",
    "This tutorial aims to give an introduction to SymPy for someone who has not used the library before. Many features of SymPy will be introduced in this tutorial, but they will not be exhaustive. In fact, virtually every functionality shown in this tutorial will have more options or capabilities than what will be shown. The rest of the SymPy documentation serves as API documentation, which extensively lists every feature and option of each function.\n",
    "\n",
    "These are the goals of this tutorial:\n",
    "\n",
    "- To give a guide, suitable for someone who has never used SymPy (but who has used Python and knows the necessary mathematics).\n",
    "- To be written in a narrative format, which is both easy and fun to follow. It should read like a book.\n",
    "- To give insightful examples and exercises, to help the reader learn and to make it entertaining to work through.\n",
    "- To introduce concepts in a logical order.\n",
    "- To use good practices and idioms, and avoid antipatterns. Functions or methodologies that tend to lead to antipatterns are avoided. Features that are only useful to advanced users are not shown.\n",
    "- To be consistent. If there are multiple ways to do it, only the best way is shown.\n",
    "- To avoid unnecessary duplication, it is assumed that previous sections of the tutorial have already been read.\n",
    "\n",
    "Feedback on this tutorial, or on SymPy in general is always welcome. Just write to our mailing list."
   ]
  }
 ],
 "metadata": {
  "kernelspec": {
   "display_name": "Python 3",
   "language": "python",
   "name": "python3"
  },
  "language_info": {
   "codemirror_mode": {
    "name": "ipython",
    "version": 3
   },
   "file_extension": ".py",
   "mimetype": "text/x-python",
   "name": "python",
   "nbconvert_exporter": "python",
   "pygments_lexer": "ipython3",
   "version": "3.6.5"
  }
 },
 "nbformat": 4,
 "nbformat_minor": 2
}
